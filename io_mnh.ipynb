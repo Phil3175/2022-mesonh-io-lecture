{
 "cells": [
  {
   "cell_type": "code",
   "execution_count": 1,
   "metadata": {
    "scrolled": false,
    "slideshow": {
     "slide_type": "skip"
    }
   },
   "outputs": [
    {
     "name": "stdout",
     "output_type": "stream",
     "text": [
      "Reset css and font defaults in:\r\n",
      "/home/waup/.jupyter/custom &\r\n",
      "/home/waup/.local/share/jupyter/nbextensions\r\n"
     ]
    }
   ],
   "source": [
    "#Thèmes possibles: chesterish, grade3, gruvboxd, gruvboxl, monokai, oceans16, onedork, solarizedd, solarizedl\n",
    "#Thèmes préférés: clair: grade3, foncés: chesterish\n",
    "#-T: toolbar\n",
    "# !jt -r :reset de tout\n",
    "\n",
    "!jt -t chesterish -T -N -kl -fs 15 -nfs 15 -tfs 15 -dfs 15 -cellw 80% \n",
    "!jt -r"
   ]
  },
  {
   "cell_type": "code",
   "execution_count": 2,
   "metadata": {
    "scrolled": true,
    "slideshow": {
     "slide_type": "skip"
    }
   },
   "outputs": [],
   "source": [
    "def print_dimensions(file):\n",
    "  print('Global dimensions:')\n",
    "  for dim in file.dimensions.values():\n",
    "    if (dim.isunlimited()):\n",
    "      print(\"  {0: <8} = {1} (unlimited)\".format(dim.name,len(dim)))\n",
    "    else:\n",
    "      print(\"  {0: <8} = {1}\".format(dim.name,len(dim)))"
   ]
  },
  {
   "cell_type": "code",
   "execution_count": 3,
   "metadata": {
    "scrolled": false,
    "slideshow": {
     "slide_type": "skip"
    }
   },
   "outputs": [],
   "source": [
    "def print_field(file,fld):\n",
    "    print('Variable : ',fld)\n",
    "    print('Type : ',file.variables[fld].dtype)\n",
    "    print('Liste des dimensions : ')\n",
    "    for dim in file.variables[fld].dimensions:\n",
    "        print('  ',dim)\n",
    "    print('Taille(s) : ')\n",
    "    for sz in file.variables[fld].shape:\n",
    "          print('  ',sz)\n",
    "    if ( hasattr(file.variables[fld], 'coordinates') ):\n",
    "        print('Coordonnées auxiliaires :')\n",
    "        print('  ',file.variables[fld].coordinates)\n",
    "    print('Attributs :')\n",
    "    for md in file.variables[fld].ncattrs():\n",
    "      print(\"  {0: <20} = {1}\".format(md,getattr(file.variables[fld],md)))\n"
   ]
  },
  {
   "cell_type": "code",
   "execution_count": 4,
   "metadata": {
    "scrolled": false,
    "slideshow": {
     "slide_type": "skip"
    }
   },
   "outputs": [],
   "source": [
    "def print_group(file,grpname):\n",
    "    grp=file[grpname]\n",
    "    print('Chemin groupe HDF5 : ',grpname)\n",
    "    print('Groupe HDF5 : ',grp.name)\n",
    "    print('Attributs :')\n",
    "    for att in grp.ncattrs():\n",
    "      print(\"  {0: <30} = {1}\".format(att, getattr(grp, att)))\n",
    "    if ( hasattr(grp, 'dimensions') ):\n",
    "      print('Liste des dimensions : ')\n",
    "      for dim in grp.dimensions:\n",
    "        print('  ',dim)\n",
    "    print('Sous-groupes:')\n",
    "    for sgrp in grp.groups:\n",
    "      print('  ',sgrp)\n",
    "    print('Variables:')\n",
    "    for var in grp.variables:\n",
    "      print('  ',var)\n",
    "    print('----------------------------------------------------------------------------------')"
   ]
  },
  {
   "cell_type": "markdown",
   "metadata": {
    "slideshow": {
     "slide_type": "slide"
    }
   },
   "source": [
    "# Entrées-sorties dans Méso-NH <a class=\"tocSkip\">"
   ]
  },
  {
   "cell_type": "markdown",
   "metadata": {
    "slideshow": {
     "slide_type": "fragment"
    }
   },
   "source": [
    "## Introduction et plan\n",
    "\n",
    "Cette présentation a pour but d'expliquer la gestion des entrées-sorties dans Méso-NH. Elle est basée principalement sur la version 5.5.0.\n",
    "\n",
    "La présentation est découpée en chapitre selon le plan suivant :\n",
    "*  [Historique](#Historique)\n",
    "*  [Types de fichiers](#types_fichiers)\n",
    "*  [Structure fichiers netCDF](#structure_fichiers_netcdf)\n",
    "*  [Namelistes](#Namelistes)\n",
    "*  [Code source](#code_source)"
   ]
  },
  {
   "cell_type": "markdown",
   "metadata": {
    "slideshow": {
     "slide_type": "slide"
    }
   },
   "source": [
    "## Historique / évolutions majeures"
   ]
  },
  {
   "cell_type": "markdown",
   "metadata": {
    "slideshow": {
     "slide_type": "fragment"
    }
   },
   "source": [
    "### Avant-hier : Méso-NH 5.4.x\n",
    "\n",
    "Méso-NH 5.4 : apports principaux :\n",
    "*  Distinction entre *backups* (reprises) et *outputs* (sorties \"fréquentes\" avec choix des champs)\n",
    "*  Respect convention CF (netCDF uniquement, encore perfectible)\n",
    "*  Ajout de métadonnées pour les différents champs (netCDF)"
   ]
  },
  {
   "cell_type": "markdown",
   "metadata": {
    "slideshow": {
     "slide_type": "subslide"
    }
   },
   "source": [
    "### Hier : Méso-NH 5.5.x\n",
    "\n",
    "L'organisation des fichiers diachroniques (\"000\") a été entièrement revue.\n",
    "Les sorties pour les bilans, bilans LES, avions, ballons, profileurs, stations et séries temporelles ont été modifiées.\n",
    "\n",
    "*  La structure est basée sur les groupes des fichiers HDF5. Ils peuvent être vus comme des répertoires dans les systèmes de fichiers.\n",
    "*  Namelistes NAM\\_BU\\_R* simplifiées (seulement 2 entrées)\n",
    "* Ajout de nouvelles dimensions"
   ]
  },
  {
   "cell_type": "markdown",
   "metadata": {
    "slideshow": {
     "slide_type": "fragment"
    }
   },
   "source": [
    "### Hier : Méso-NH 5.6.x\n",
    "\n",
    "Apports marquants pour les versions 5.6 :\n",
    "\n",
    "* Réorganisation de la gestion des variables scalaires (variables utilisateurs, microphysiques, électricité, chimie, traceurs Lagrangiens, polluants passifs, sels, poussières...)\n",
    "    * correction de bugs, d'incohérences et d'oublis (variables manquantes) dans les fichiers\n",
    "    * changements dans le nommage\n",
    "    * homogénéisation des unités physiques\n",
    "    * métadonnées plus explicites\n",
    "* Capteurs (avions, ballons, stations et profileurs) : réorganisation complète\n",
    "    * utilisation de namelistes et de fichiers CSV pour spécifier toutes leurs caractéristiques\n",
    "    * correction d'oublis et champs supplémentaires dans les sorties\n",
    "    * optimisation des communications MPI (parallélisme) et de la consommation mémoire\n",
    "* Pour les développeurs : mise en place d'un constructeur personnalisé (*custom constructor*, fonctionnalité Fortran 2003) pour les métadonnées des champs"
   ]
  },
  {
   "cell_type": "markdown",
   "metadata": {},
   "source": [
    "### Aujourd'hui : Méso-NH 5.7.x\n",
    "\n",
    "Apports marquants pour les versions 5.7 : peu de changements importants par rapport aux version 5.6\n",
    "\n",
    "* Outputs (sorties \"fréquentes\") : compression avec pertes"
   ]
  },
  {
   "cell_type": "markdown",
   "metadata": {
    "slideshow": {
     "slide_type": "fragment"
    }
   },
   "source": [
    "### Demain\n",
    "\n",
    "Evolutions futures :\n",
    "*  I/O parallèles revisitées\n",
    "*  Réorganisation interne et amélioration du code\n",
    "*  Poursuite des améliorations sur la structure des fichiers\n"
   ]
  },
  {
   "cell_type": "markdown",
   "metadata": {
    "slideshow": {
     "slide_type": "slide"
    }
   },
   "source": [
    "<a id='types_fichiers'></a>\n",
    "## Types de fichiers"
   ]
  },
  {
   "cell_type": "markdown",
   "metadata": {
    "slideshow": {
     "slide_type": "fragment"
    }
   },
   "source": [
    "### Fichiers d'entrées\n",
    "\n",
    "*  Namelistes (paramètres physiques des modèles et paramètres d'exécution)\n",
    "*  Fichiers de démarrage initiaux (générés par PREP_IDEAL_CASE, PREP_REAL_CASE...)\n",
    "*  *Backups* (si reprise)\n",
    "*  Divers (liste des stations, caractéristiques éoliennes...)\n",
    "\n",
    "Remarque : liste non exhaustive, ces fichiers n'étant pas tous le sujet de cette formation"
   ]
  },
  {
   "cell_type": "markdown",
   "metadata": {
    "slideshow": {
     "slide_type": "subslide"
    }
   },
   "source": [
    "### Fichiers de sortie\n",
    "\n",
    "*  *Backups* (fichiers de reprise) synchrones : tous les champs nécessaires pour un redémarrage + autres à un instant donné de la simulation\n",
    "*  Diachroniques (\"000\") : contiennent tous les bilans + autres données\n",
    "*  Outputs (sorties \"fréquentes\") : sélection de champs\n",
    "*  *OUTPUT_LISTINGn* : messages\n",
    "*  Fichiers .des (aussi dans les entrées, associés à autres fichiers)\n",
    "*  Divers (éclairs...)\n",
    "\n",
    "Remarque : liste non exhaustive, ces fichiers n'étant pas tous le sujet de cette formation"
   ]
  },
  {
   "cell_type": "markdown",
   "metadata": {
    "slideshow": {
     "slide_type": "slide"
    }
   },
   "source": [
    "<a id='structure_fichiers_netcdf'></a>\n",
    "## Structure fichiers netCDF\n",
    "\n",
    "Méso-NH peut travailler avec des fichiers aux formats LFI ou netCDF.\n",
    "\n",
    "Sur ce support, seul le contenu des fichiers netCDF sera passé en revue. Le format LFI est le format utilisé historiquement par Méso-NH et est nettement moins riche que netCDF.\n",
    "\n",
    "*  Les fichiers netCDF et LFI (sauf pour les sorties \"fréquentes\") sont accompagnés d'un fichier texte avec comme extension *.des*. Ces derniers contiennent le contenu des namelistes utilisées.\n",
    "*  Les fichiers netCDF essayent de respecter les [conventions CF](http://cfconventions.org/) pour un meilleur support des outils standards de traitement de données et de visualisation, ainsi que pour l'interopérabilité."
   ]
  },
  {
   "cell_type": "markdown",
   "metadata": {
    "slideshow": {
     "slide_type": "slide"
    }
   },
   "source": [
    "### Nommage des fichiers"
   ]
  },
  {
   "cell_type": "markdown",
   "metadata": {
    "slideshow": {
     "slide_type": "fragment"
    }
   },
   "source": [
    "#### Fichiers de *backup*\n",
    "\n",
    "Nom : ***CEXP.n.CSEG.bbb.ext***\n",
    "\n",
    "avec\n",
    "\n",
    "*  *CEXP* le nom de l'expérimentation (5 caractères),\n",
    "*  *n* le numéro de modèle,\n",
    "*  *CSEG* le nom du segment (5 caractères),\n",
    "*  *bbb* le numéro du *backup* (3 chiffres, commence à 001 au début du segment),\n",
    "*  *ext* l'extension du fichier (nc, lfi ou des)\n",
    "\n",
    "Cas particulier si découpage en niveaux verticaux (entrées-sorties parallèles) :\n",
    "\n",
    "Nom : ***CEXP.n.CSEG.bbb.Zlll.ext***\n",
    "\n",
    "avec *Zlll* pour les numéros du fichier contenant les champs 3D découpés par niveaux (de 001 à nombre de processus utilisés pour le découpage)"
   ]
  },
  {
   "cell_type": "markdown",
   "metadata": {
    "slideshow": {
     "slide_type": "subslide"
    }
   },
   "source": [
    "#### Fichiers d'*output*\n",
    "\n",
    "Nom : ***CEXP.n.CSEG.OUT.ooo.ext***\n",
    "\n",
    "avec\n",
    "\n",
    "*  *CEXP* le nom de l'expérimentation (5 caractères),\n",
    "*  *n* le numéro de modèle,\n",
    "*  *CSEG* le nom du segment (5 caractères),\n",
    "*  *ooo* le numéro du *sortie* (3 chiffres, commence à 001 au début du segment),\n",
    "*  *ext* l'extension du fichier (nc, lfi ou des)\n",
    "\n",
    "Cas particulier si découpage en niveaux verticaux (entrées-sorties parallèles) :\n",
    "\n",
    "Nom : **CEXP.n.CSEG.OUT.ooo.Zlll.ext**\n",
    "\n",
    "avec *Zlll* pour les numéros du fichier contenant les champs 3D découpés par niveaux (de 001 à nombre de processus utilisés pour le découpage)"
   ]
  },
  {
   "cell_type": "markdown",
   "metadata": {
    "slideshow": {
     "slide_type": "subslide"
    }
   },
   "source": [
    "#### Fichiers diachroniques\n",
    "\n",
    "Nom : ***CEXP.n.CSEG.000.ext***\n",
    "\n",
    "avec\n",
    "\n",
    "*  *CEXP* le nom de l'expérimentation (5 caractères),\n",
    "*  *n* le numéro de modèle,\n",
    "*  *CSEG* le nom du segment,\n",
    "*  *ext* l'extension du fichier (nc, lfi ou des)\n",
    "\n",
    "Cas particulier si découpage en niveaux verticaux (entrées-sorties parallèles) :\n",
    "\n",
    "Nom : ***CEXP.n.CSEG.000.Zlll.ext***\n",
    "\n",
    "avec *Zlll* pour les numéros du fichier contenant les champs 3D découpés par niveaux (de 001 à nombre de processus utilisés pour le découpage)"
   ]
  },
  {
   "cell_type": "markdown",
   "metadata": {
    "slideshow": {
     "slide_type": "slide"
    }
   },
   "source": [
    "### Fichiers de backups et d'outputs"
   ]
  },
  {
   "cell_type": "markdown",
   "metadata": {
    "slideshow": {
     "slide_type": "fragment"
    }
   },
   "source": [
    "#### Ouverture fichier"
   ]
  },
  {
   "cell_type": "code",
   "execution_count": 5,
   "metadata": {
    "scrolled": false
   },
   "outputs": [],
   "source": [
    "import netCDF4 as nc\n",
    "\n",
    "fl_backup = nc.Dataset( 'data/REUNI.1.00A20.004.nc', 'r' )"
   ]
  },
  {
   "cell_type": "markdown",
   "metadata": {
    "slideshow": {
     "slide_type": "fragment"
    }
   },
   "source": [
    "#### Attributs"
   ]
  },
  {
   "cell_type": "code",
   "execution_count": 6,
   "metadata": {
    "scrolled": false,
    "slideshow": {
     "slide_type": "-"
    }
   },
   "outputs": [
    {
     "name": "stdout",
     "output_type": "stream",
     "text": [
      "Global attributes:\n",
      "  Conventions                    = CF-1.10 COMODO-1.4\n",
      "  MNH_REAL                       = 8\n",
      "  MNH_INT                        = 4\n",
      "  MNH_REDUCE_DIMENSIONS_IN_FILES = 1\n",
      "  history                        = 2023-10-05T10:58:22+0200: /home/waup/MNH/MNH-56-branch/src/dir_obj-LXgfortran-R8I4-MNH-V5-6-1-MPIAUTO-DEBUG/MASTER/MESONH\n",
      "  MNH_cleanly_closed             = yes\n"
     ]
    }
   ],
   "source": [
    "print('Global attributes:')\n",
    "for att in fl_backup.ncattrs():\n",
    "  print(\"  {0: <30} = {1}\".format(att, getattr(fl_backup, att)))"
   ]
  },
  {
   "cell_type": "markdown",
   "metadata": {
    "slideshow": {
     "slide_type": "subslide"
    }
   },
   "source": [
    "#### Dimensions globales"
   ]
  },
  {
   "cell_type": "code",
   "execution_count": 7,
   "metadata": {
    "scrolled": false,
    "slideshow": {
     "slide_type": "-"
    }
   },
   "outputs": [
    {
     "name": "stdout",
     "output_type": "stream",
     "text": [
      "Global dimensions:\n",
      "  ni       = 74\n",
      "  nj       = 82\n",
      "  ni_u     = 74\n",
      "  nj_u     = 82\n",
      "  ni_v     = 74\n",
      "  nj_v     = 82\n",
      "  level    = 52\n",
      "  level_w  = 52\n",
      "  time     = 1 (unlimited)\n",
      "  SW_bands = 6\n",
      "  LW_bands = 16\n",
      "  size3    = 3\n",
      "  char16   = 16\n",
      "  char32   = 32\n",
      "  size12   = 12\n",
      "  size2    = 2\n"
     ]
    }
   ],
   "source": [
    "print_dimensions(fl_backup)"
   ]
  },
  {
   "cell_type": "markdown",
   "metadata": {
    "slideshow": {
     "slide_type": "-"
    }
   },
   "source": [
    "Remarques :\n",
    "*  lorsqu'une dimension n'est pas trouvée lors de l'exécution, elle est créée automatiquement par Méso-NH avec un nom préfixé par *char* suivi par sa taille (par multiple de 16) pour les chaînes de caractères et *size* suivi de sa taille pour les autres types\n",
    "*  d'autres dimensions globales existent dans les fichiers diachroniques (voir plus loin)"
   ]
  },
  {
   "cell_type": "markdown",
   "metadata": {
    "slideshow": {
     "slide_type": "subslide"
    }
   },
   "source": [
    "#### Coordonnées 1D\n",
    "\n",
    "Elles ont comme nom, le même que celui d'une dimension.\n",
    "\n",
    "Attributs utiles :\n",
    "*  *axis* : *X* ou *Y* pour les coordonnées horizontales, *Z* pour les verticales et *T* pour le temps\n",
    "*  *c_grid_axis_shift* (venant de la norme COMODO) : décalage par rapport à autres coordonnées sur le même axe\n",
    "* *c_grid_dynamic_range* : donne l'intervalle de numéros d'indices appartenant au domaine physique (et permet donc de retirer les mailles fantômes)\n"
   ]
  },
  {
   "cell_type": "code",
   "execution_count": 8,
   "metadata": {
    "scrolled": false,
    "slideshow": {
     "slide_type": "-"
    }
   },
   "outputs": [
    {
     "name": "stdout",
     "output_type": "stream",
     "text": [
      "Variable :  ni_u\n",
      "Type :  float64\n",
      "Liste des dimensions : \n",
      "   ni_u\n",
      "Taille(s) : \n",
      "   74\n",
      "Attributs :\n",
      "  long_name            = x-dimension of the grid at u location\n",
      "  standard_name        = projection_x_coordinate_at_u_location\n",
      "  units                = m\n",
      "  axis                 = X\n",
      "  c_grid_axis_shift    = -0.5\n",
      "  c_grid_dynamic_range = 2:74\n"
     ]
    }
   ],
   "source": [
    "print_field(fl_backup,'ni_u')"
   ]
  },
  {
   "cell_type": "code",
   "execution_count": 9,
   "metadata": {
    "scrolled": false,
    "slideshow": {
     "slide_type": "-"
    }
   },
   "outputs": [
    {
     "name": "stdout",
     "output_type": "stream",
     "text": [
      "Variable :  level\n",
      "Type :  float64\n",
      "Liste des dimensions : \n",
      "   level\n",
      "Taille(s) : \n",
      "   52\n",
      "Attributs :\n",
      "  long_name            = position z in the transformed space\n",
      "  units                = m\n",
      "  axis                 = Z\n",
      "  positive             = up\n",
      "  c_grid_axis_shift    = 0.0\n",
      "  c_grid_dynamic_range = 2:51\n",
      "  formula_terms        = s: level height: ZTOP orog: ZS\n",
      "  formula_definition   = z(n,k,j,i)=s(k)*(height-orog(j,i))/height+orog(j,i)\n",
      "  computed_standard_name = altitude\n"
     ]
    }
   ],
   "source": [
    "print_field(fl_backup,'level')"
   ]
  },
  {
   "cell_type": "code",
   "execution_count": 10,
   "metadata": {
    "scrolled": false,
    "slideshow": {
     "slide_type": "-"
    }
   },
   "outputs": [
    {
     "name": "stdout",
     "output_type": "stream",
     "text": [
      "Variable :  time\n",
      "Type :  float64\n",
      "Liste des dimensions : \n",
      "   time\n",
      "Taille(s) : \n",
      "   1\n",
      "Attributs :\n",
      "  long_name            = time axis\n",
      "  standard_name        = time\n",
      "  units                = seconds since 2000-01-01 00:00:00 +0:00\n",
      "  axis                 = T\n",
      "  calendar             = standard\n"
     ]
    }
   ],
   "source": [
    "print_field(fl_backup,'time')"
   ]
  },
  {
   "cell_type": "markdown",
   "metadata": {
    "slideshow": {
     "slide_type": "subslide"
    }
   },
   "source": [
    "#### Variables auxiliaires de coordonnées\n",
    "\n",
    "Variables de coordonnées 2D basées sur d'autres coordonnées"
   ]
  },
  {
   "cell_type": "code",
   "execution_count": 11,
   "metadata": {
    "scrolled": false
   },
   "outputs": [
    {
     "name": "stdout",
     "output_type": "stream",
     "text": [
      "Variable :  latitude_u\n",
      "Type :  float64\n",
      "Liste des dimensions : \n",
      "   nj_u\n",
      "   ni_u\n",
      "Taille(s) : \n",
      "   82\n",
      "   74\n",
      "Attributs :\n",
      "  standard_name        = latitude_at_u_location\n",
      "  long_name            = latitude at u location\n",
      "  units                = degrees_north\n",
      "  grid                 = 2\n",
      "  comment              = X_Y_latitude at u point\n",
      "  _FillValue           = 9.969209968386869e+36\n",
      "  valid_min            = -1e+36\n",
      "  valid_max            = 1e+36\n"
     ]
    }
   ],
   "source": [
    "print_field(fl_backup,'latitude_u')"
   ]
  },
  {
   "cell_type": "markdown",
   "metadata": {
    "slideshow": {
     "slide_type": "subslide"
    }
   },
   "source": [
    "#### Champs"
   ]
  },
  {
   "cell_type": "code",
   "execution_count": 12,
   "metadata": {
    "scrolled": false
   },
   "outputs": [
    {
     "name": "stdout",
     "output_type": "stream",
     "text": [
      "Variable :  BUGFIX\n",
      "Type :  int32\n",
      "Liste des dimensions : \n",
      "Taille(s) : \n",
      "Attributs :\n",
      "  long_name            = MesoNH bugfix number\n"
     ]
    }
   ],
   "source": [
    "print_field(fl_backup,'BUGFIX')"
   ]
  },
  {
   "cell_type": "code",
   "execution_count": 13,
   "metadata": {
    "scrolled": false,
    "slideshow": {
     "slide_type": "-"
    }
   },
   "outputs": [
    {
     "name": "stdout",
     "output_type": "stream",
     "text": [
      "Variable :  UT\n",
      "Type :  float64\n",
      "Liste des dimensions : \n",
      "   time\n",
      "   level\n",
      "   nj_u\n",
      "   ni_u\n",
      "Taille(s) : \n",
      "   1\n",
      "   52\n",
      "   82\n",
      "   74\n",
      "Coordonnées auxiliaires :\n",
      "   latitude_u longitude_u\n",
      "Attributs :\n",
      "  standard_name        = x_wind\n",
      "  long_name            = UT\n",
      "  units                = m s-1\n",
      "  grid                 = 2\n",
      "  comment              = X_Y_Z_U component of wind\n",
      "  coordinates          = latitude_u longitude_u\n",
      "  _FillValue           = 9.969209968386869e+36\n",
      "  valid_min            = -1e+36\n",
      "  valid_max            = 1e+36\n"
     ]
    }
   ],
   "source": [
    "print_field(fl_backup,'UT')"
   ]
  },
  {
   "cell_type": "markdown",
   "metadata": {
    "slideshow": {
     "slide_type": "subslide"
    }
   },
   "source": [
    "#### Fichiers découpés en niveaux verticaux (I/O parallèles)\n",
    "\n",
    "Si les entrées-sorties parallèles sont activées, les champs 3D sont découpés dans des sous-fichiers (avec des *Znnn* dans leur nom).\n",
    "\n",
    "Dans l'exemple ci-dessous, on travaille avec un fichier d'*output* (sorties \"fréquentes\") et ses sous-fichiers avec compression et réduction de la précision des nombres en virgule flotantte."
   ]
  },
  {
   "cell_type": "code",
   "execution_count": 14,
   "metadata": {
    "scrolled": false
   },
   "outputs": [],
   "source": [
    "fl_output_master = nc.Dataset( 'data/REUNI.1.00A20.OUT.009.nc', 'r' )\n",
    "fl_output_slave = nc.Dataset( 'data/REUNI.1.00A20.OUT.009.Z001.nc', 'r' )"
   ]
  },
  {
   "cell_type": "code",
   "execution_count": 15,
   "metadata": {
    "scrolled": false
   },
   "outputs": [
    {
     "name": "stdout",
     "output_type": "stream",
     "text": [
      "Variable :  UT\n",
      "Type :  float32\n",
      "Liste des dimensions : \n",
      "Taille(s) : \n",
      "Coordonnées auxiliaires :\n",
      "   latitude_u longitude_u\n",
      "Attributs :\n",
      "  standard_name        = x_wind\n",
      "  long_name            = UT\n",
      "  units                = m s-1\n",
      "  grid                 = 2\n",
      "  comment              = X_Y_Z_U component of wind\n",
      "  coordinates          = latitude_u longitude_u\n",
      "  _FillValue           = 9.969209968386869e+36\n",
      "  valid_min            = -9.999999616903162e+35\n",
      "  valid_max            = 9.999999616903162e+35\n",
      "  split_variable       = yes\n",
      "  split_mode           = Z\n",
      "  split_nblocks        = 52\n",
      "  split_nfiles         = 8\n",
      "  split_distribution   = round-robin\n",
      "  ndims                = 3\n",
      "  dims                 = [74 82 52]\n",
      "  time_dependent       = yes\n"
     ]
    }
   ],
   "source": [
    "print_field(fl_output_master,'UT')"
   ]
  },
  {
   "cell_type": "code",
   "execution_count": 16,
   "metadata": {
    "scrolled": false,
    "slideshow": {
     "slide_type": "subslide"
    }
   },
   "outputs": [
    {
     "name": "stdout",
     "output_type": "stream",
     "text": [
      "Variable :  UT0009\n",
      "Type :  float32\n",
      "Liste des dimensions : \n",
      "   level\n",
      "   nj_u\n",
      "   ni_u\n",
      "Taille(s) : \n",
      "   52\n",
      "   82\n",
      "   74\n",
      "Coordonnées auxiliaires :\n",
      "   latitude_u longitude_u\n",
      "Attributs :\n",
      "  standard_name        = x_wind_at_level_0009\n",
      "  long_name            = UT at level 0009\n",
      "  units                = m s-1\n",
      "  grid                 = 2\n",
      "  comment              = X_Y_Z_U component of wind\n",
      "  coordinates          = latitude_u longitude_u\n",
      "  _FillValue           = 9.969209968386869e+36\n",
      "  valid_min            = -9.999999616903162e+35\n",
      "  valid_max            = 9.999999616903162e+35\n"
     ]
    }
   ],
   "source": [
    "print_field(fl_output_slave,'UT0009')"
   ]
  },
  {
   "cell_type": "markdown",
   "metadata": {
    "slideshow": {
     "slide_type": "slide"
    }
   },
   "source": [
    "### Fichiers diachroniques (*000*)\n",
    "\n",
    "Ils contiennent les sorties pour :\n",
    "\n",
    "*  bilans (*budgets*)\n",
    "*  bilans LES\n",
    "*  avions\n",
    "*  ballons\n",
    "*  profileurs\n",
    "*  stations\n",
    "*  séries temporelles"
   ]
  },
  {
   "cell_type": "markdown",
   "metadata": {
    "slideshow": {
     "slide_type": "subslide"
    }
   },
   "source": [
    "La structure est basée sur les groupes des fichiers HDF5. Ils peuvent être vu comme des répertoires dans les systèmes de fichiers.\n",
    "Il y a jusqu'à 7 niveaux (*levels*) hiérarchiques. Certains peuvent être regroupés pour des questions de lisibilité. La liste des niveaux dans le groupe est donnée via l'attribut *levels*.\n",
    "  \n",
    "Niveaux dans les fichiers diachroniques :\n",
    "\n",
    "*  *category* : valeurs possibles : 'Budgets', 'LES\\_budgets', 'Flyers' (pour les avions et les ballons), 'Profilers', 'Stations' and 'Time\\_series'\n",
    "*  *subcategory* : utilisé seulement pour les 'Flyers'\n",
    "*  *group*\n",
    "*  *shape*\n",
    "*  *timeavg* : données moyennées ou pas dans le temps\n",
    "*  *norm* : données normalisées ou pas\n",
    "*  *mask*\n",
    "\n",
    "Les valeurs des champs sont toujours stockées dans le dernier niveau. Il est donc possible d'avoir plusieurs champs avec le même nom mais à des emplacements différents. Leur distinction se fait selon les caractéristiques des différents niveaux.\n",
    "\n",
    "La plupart des dimensions sont des dimensions globales car elles peuvent potentiellement servir à plusieurs endroits. Néanmoins, certaines peuvent être locales à un groupe HDF5. C'est le cas de la dimension temporelle pour les *flyers* qui est spécifique à chacun d'entre eux."
   ]
  },
  {
   "cell_type": "markdown",
   "metadata": {
    "slideshow": {
     "slide_type": "subslide"
    }
   },
   "source": [
    "#### Ouverture fichier"
   ]
  },
  {
   "cell_type": "code",
   "execution_count": 17,
   "metadata": {
    "scrolled": false
   },
   "outputs": [],
   "source": [
    "fl_dia = nc.Dataset( 'data/REUNI.1.00A20.000.nc', 'r' )"
   ]
  },
  {
   "cell_type": "markdown",
   "metadata": {
    "slideshow": {
     "slide_type": "subslide"
    }
   },
   "source": [
    "#### Attributs"
   ]
  },
  {
   "cell_type": "code",
   "execution_count": 18,
   "metadata": {
    "scrolled": false
   },
   "outputs": [
    {
     "name": "stdout",
     "output_type": "stream",
     "text": [
      "Global attributes:\n",
      "  Conventions                    = CF-1.10 COMODO-1.4\n",
      "  MNH_REAL                       = 8\n",
      "  MNH_INT                        = 4\n",
      "  MNH_REDUCE_DIMENSIONS_IN_FILES = 1\n",
      "  history                        = 2023-10-05T10:54:03+0200: /home/waup/MNH/MNH-56-branch/src/dir_obj-LXgfortran-R8I4-MNH-V5-6-1-MPIAUTO-DEBUG/MASTER/MESONH\n",
      "  MNH_cleanly_closed             = yes\n"
     ]
    }
   ],
   "source": [
    "print('Global attributes:')\n",
    "for att in fl_dia.ncattrs():\n",
    "  print(\"  {0: <30} = {1}\".format(att, getattr(fl_dia, att)))"
   ]
  },
  {
   "cell_type": "markdown",
   "metadata": {
    "slideshow": {
     "slide_type": "subslide"
    }
   },
   "source": [
    "#### Dimensions globales"
   ]
  },
  {
   "cell_type": "code",
   "execution_count": 19,
   "metadata": {
    "scrolled": false
   },
   "outputs": [
    {
     "name": "stdout",
     "output_type": "stream",
     "text": [
      "Global dimensions:\n",
      "  ni       = 74\n",
      "  nj       = 82\n",
      "  ni_u     = 74\n",
      "  nj_u     = 82\n",
      "  ni_v     = 74\n",
      "  nj_v     = 82\n",
      "  level    = 52\n",
      "  level_w  = 52\n",
      "  one      = 1\n",
      "  real_imaginary = 2\n",
      "  pair     = 2\n",
      "  cart_ni  = 50\n",
      "  cart_nj  = 54\n",
      "  cart_ni_u = 50\n",
      "  cart_nj_u = 54\n",
      "  cart_ni_v = 50\n",
      "  cart_nj_v = 54\n",
      "  time_budget = 20\n",
      "  time_les = 20\n",
      "  time_les_avg = 2\n",
      "  level_les = 4\n",
      "  nspectra_2pts_ni = 71\n",
      "  nspectra_2pts_nj = 79\n",
      "  nspectra_spec_ni = 70\n",
      "  nspectra_spec_nj = 78\n",
      "  nspectra_level = 2\n",
      "  time_profiler = 21\n",
      "  time_station = 41\n",
      "  series_level = 50\n",
      "  series_level_w = 50\n",
      "  time_series = 12\n",
      "  size3    = 3\n",
      "  char16   = 16\n",
      "  char32   = 32\n"
     ]
    }
   ],
   "source": [
    "print_dimensions(fl_dia)"
   ]
  },
  {
   "cell_type": "markdown",
   "metadata": {
    "slideshow": {
     "slide_type": "subslide"
    }
   },
   "source": [
    "Certains champs peuvent être moyennés sur le temps. Dans ce cas, une variable supplémentaire est ajoutée pour spécifier les plages de temps.\n",
    "\n",
    "Exemple :"
   ]
  },
  {
   "cell_type": "code",
   "execution_count": 20,
   "metadata": {
    "scrolled": false
   },
   "outputs": [
    {
     "name": "stdout",
     "output_type": "stream",
     "text": [
      "Variable :  time_les_avg\n",
      "Type :  float64\n",
      "Liste des dimensions : \n",
      "   time_les_avg\n",
      "Taille(s) : \n",
      "   2\n",
      "Attributs :\n",
      "  long_name            = time axis for LES budget time averages\n",
      "  standard_name        = time\n",
      "  units                = seconds since 2000-01-01 00:00:00 +0:00\n",
      "  axis                 = T\n",
      "  calendar             = standard\n",
      "  bounds               = time_les_avg_bounds\n",
      "Valeurs :  [120. 300.]\n"
     ]
    }
   ],
   "source": [
    "print_field(fl_dia,'time_les_avg')\n",
    "print('Valeurs : ',fl_dia.variables['time_les_avg'][:])"
   ]
  },
  {
   "cell_type": "code",
   "execution_count": 21,
   "metadata": {
    "scrolled": false
   },
   "outputs": [
    {
     "name": "stdout",
     "output_type": "stream",
     "text": [
      "Variable :  time_les_avg_bounds\n",
      "Type :  float64\n",
      "Liste des dimensions : \n",
      "   time_les_avg\n",
      "   pair\n",
      "Taille(s) : \n",
      "   2\n",
      "   2\n",
      "Attributs :\n",
      "Valeurs :  [[ 40. 200.]\n",
      " [200. 400.]]\n"
     ]
    }
   ],
   "source": [
    "print_field(fl_dia,'time_les_avg_bounds')\n",
    "\n",
    "print('Valeurs : ',fl_dia.variables['time_les_avg_bounds'][:])"
   ]
  },
  {
   "cell_type": "markdown",
   "metadata": {
    "slideshow": {
     "slide_type": "subslide"
    }
   },
   "source": [
    "#### Structure des niveaux"
   ]
  },
  {
   "cell_type": "code",
   "execution_count": 22,
   "metadata": {
    "scrolled": false
   },
   "outputs": [
    {
     "name": "stdout",
     "output_type": "stream",
     "text": [
      "Liste des groupes HDF5 dans la racine du fichier :\n",
      "Budgets\n",
      "Time_series\n",
      "Flyers\n",
      "Stations\n",
      "Profilers\n",
      "LES_budgets\n"
     ]
    }
   ],
   "source": [
    "print('Liste des groupes HDF5 dans la racine du fichier :')\n",
    "for gr in fl_dia.groups:\n",
    "    print(gr)"
   ]
  },
  {
   "cell_type": "code",
   "execution_count": 23,
   "metadata": {
    "scrolled": true
   },
   "outputs": [
    {
     "name": "stdout",
     "output_type": "stream",
     "text": [
      "Liste de tous les groupes HDF5 dans le fichier :\n",
      "/Budgets\n",
      "/Budgets/RhodJ\n",
      "/Budgets/UU\n",
      "/Budgets/VV\n",
      "/Budgets/TK\n",
      "/Time_series\n",
      "/Time_series/TSERIES\n",
      "/Time_series/TSERIES/GLOB\n",
      "/Time_series/TSERIES/LAND\n",
      "/Time_series/TSERIES/SEA\n",
      "/Time_series/ZTSERIES\n",
      "/Time_series/ZTSERIES/GLOB\n",
      "/Time_series/ZTSERIES/LAND\n",
      "/Time_series/ZTSERIES/SEA\n",
      "/Time_series/XTSERIES01\n",
      "/Flyers\n",
      "/Flyers/Constant_volume_balloons\n",
      "/Flyers/Constant_volume_balloons/CVB1MOBI\n",
      "/Flyers/Constant_volume_balloons/CVB1MOBI/Point\n",
      "/Flyers/Constant_volume_balloons/CVB1MOBI/Vertical_profile\n",
      "/Flyers/Constant_volume_balloons/CVB2MOBI\n",
      "/Flyers/Constant_volume_balloons/CVB2MOBI/Point\n",
      "/Flyers/Constant_volume_balloons/CVB2MOBI/Vertical_profile\n",
      "/Flyers/Aircrafts\n",
      "/Flyers/Aircrafts/DIMO19A\n",
      "/Flyers/Aircrafts/DIMO19A/Point\n",
      "/Flyers/Aircrafts/DIMO19A/Vertical_profile\n",
      "/Stations\n",
      "/Stations/STATPW\n",
      "/Stations/SNUM2\n",
      "/Profilers\n",
      "/Profilers/CAAM\n",
      "/Profilers/CAAM/Vertical_profile\n",
      "/Profilers/CAAM/Point\n",
      "/Profilers/CRAU\n",
      "/Profilers/CRAU/Vertical_profile\n",
      "/Profilers/CRAU/Point\n",
      "/Profilers/BARD\n",
      "/Profilers/BARD/Vertical_profile\n",
      "/Profilers/BARD/Point\n",
      "/LES_budgets\n",
      "/LES_budgets/Miscellaneous\n",
      "/LES_budgets/Miscellaneous/Cartesian\n",
      "/LES_budgets/Miscellaneous/Cartesian/Not_time_averaged\n",
      "/LES_budgets/Miscellaneous/Cartesian/Not_time_averaged/Not_normalized\n",
      "/LES_budgets/Miscellaneous/Cartesian/Not_time_averaged/Not_normalized/cart\n",
      "/LES_budgets/Miscellaneous/Cartesian/Time_averaged\n",
      "/LES_budgets/Miscellaneous/Cartesian/Time_averaged/Not_normalized\n",
      "/LES_budgets/Miscellaneous/Cartesian/Time_averaged/Not_normalized/cart\n",
      "/LES_budgets/Mean\n",
      "/LES_budgets/Mean/Cartesian\n",
      "/LES_budgets/Mean/Cartesian/Not_time_averaged\n",
      "/LES_budgets/Mean/Cartesian/Not_time_averaged/Not_normalized\n",
      "/LES_budgets/Mean/Cartesian/Not_time_averaged/Not_normalized/cart\n",
      "/LES_budgets/Mean/Cartesian/Not_time_averaged/Normalized\n",
      "/LES_budgets/Mean/Cartesian/Not_time_averaged/Normalized/cart\n",
      "/LES_budgets/Mean/Cartesian/Time_averaged\n",
      "/LES_budgets/Mean/Cartesian/Time_averaged/Not_normalized\n",
      "/LES_budgets/Mean/Cartesian/Time_averaged/Not_normalized/cart\n",
      "/LES_budgets/Mean/Cartesian/Time_averaged/Normalized\n",
      "/LES_budgets/Mean/Cartesian/Time_averaged/Normalized/cart\n",
      "/LES_budgets/Resolved\n",
      "/LES_budgets/Resolved/Cartesian\n",
      "/LES_budgets/Resolved/Cartesian/Not_time_averaged\n",
      "/LES_budgets/Resolved/Cartesian/Not_time_averaged/Not_normalized\n",
      "/LES_budgets/Resolved/Cartesian/Not_time_averaged/Not_normalized/cart\n",
      "/LES_budgets/Resolved/Cartesian/Not_time_averaged/Normalized\n",
      "/LES_budgets/Resolved/Cartesian/Not_time_averaged/Normalized/cart\n",
      "/LES_budgets/Resolved/Cartesian/Time_averaged\n",
      "/LES_budgets/Resolved/Cartesian/Time_averaged/Not_normalized\n",
      "/LES_budgets/Resolved/Cartesian/Time_averaged/Not_normalized/cart\n",
      "/LES_budgets/Resolved/Cartesian/Time_averaged/Normalized\n",
      "/LES_budgets/Resolved/Cartesian/Time_averaged/Normalized/cart\n",
      "/LES_budgets/Subgrid\n",
      "/LES_budgets/Subgrid/Cartesian\n",
      "/LES_budgets/Subgrid/Cartesian/Not_time_averaged\n",
      "/LES_budgets/Subgrid/Cartesian/Not_time_averaged/Not_normalized\n",
      "/LES_budgets/Subgrid/Cartesian/Not_time_averaged/Not_normalized/cart\n",
      "/LES_budgets/Subgrid/Cartesian/Not_time_averaged/Normalized\n",
      "/LES_budgets/Subgrid/Cartesian/Not_time_averaged/Normalized/cart\n",
      "/LES_budgets/Subgrid/Cartesian/Time_averaged\n",
      "/LES_budgets/Subgrid/Cartesian/Time_averaged/Not_normalized\n",
      "/LES_budgets/Subgrid/Cartesian/Time_averaged/Not_normalized/cart\n",
      "/LES_budgets/Subgrid/Cartesian/Time_averaged/Normalized\n",
      "/LES_budgets/Subgrid/Cartesian/Time_averaged/Normalized/cart\n",
      "/LES_budgets/Updraft\n",
      "/LES_budgets/Updraft/Cartesian\n",
      "/LES_budgets/Updraft/Cartesian/Not_time_averaged\n",
      "/LES_budgets/Updraft/Cartesian/Not_time_averaged/Not_normalized\n",
      "/LES_budgets/Updraft/Cartesian/Not_time_averaged/Not_normalized/cart\n",
      "/LES_budgets/Updraft/Cartesian/Not_time_averaged/Normalized\n",
      "/LES_budgets/Updraft/Cartesian/Not_time_averaged/Normalized/cart\n",
      "/LES_budgets/Updraft/Cartesian/Time_averaged\n",
      "/LES_budgets/Updraft/Cartesian/Time_averaged/Not_normalized\n",
      "/LES_budgets/Updraft/Cartesian/Time_averaged/Not_normalized/cart\n",
      "/LES_budgets/Updraft/Cartesian/Time_averaged/Normalized\n",
      "/LES_budgets/Updraft/Cartesian/Time_averaged/Normalized/cart\n",
      "/LES_budgets/Radiation\n",
      "/LES_budgets/Radiation/Cartesian\n",
      "/LES_budgets/Radiation/Cartesian/Not_time_averaged\n",
      "/LES_budgets/Radiation/Cartesian/Not_time_averaged/Not_normalized\n",
      "/LES_budgets/Radiation/Cartesian/Not_time_averaged/Not_normalized/cart\n",
      "/LES_budgets/Radiation/Cartesian/Time_averaged\n",
      "/LES_budgets/Radiation/Cartesian/Time_averaged/Not_normalized\n",
      "/LES_budgets/Radiation/Cartesian/Time_averaged/Not_normalized/cart\n",
      "/LES_budgets/Surface\n",
      "/LES_budgets/Surface/Cartesian\n",
      "/LES_budgets/Surface/Cartesian/Not_time_averaged\n",
      "/LES_budgets/Surface/Cartesian/Not_time_averaged/Not_normalized\n",
      "/LES_budgets/Surface/Cartesian/Not_time_averaged/Not_normalized/cart\n",
      "/LES_budgets/Surface/Cartesian/Time_averaged\n",
      "/LES_budgets/Surface/Cartesian/Time_averaged/Not_normalized\n",
      "/LES_budgets/Surface/Cartesian/Time_averaged/Not_normalized/cart\n",
      "/LES_budgets/BU_KE\n",
      "/LES_budgets/BU_KE/Cartesian\n",
      "/LES_budgets/BU_KE/Cartesian/Not_time_averaged\n",
      "/LES_budgets/BU_KE/Cartesian/Not_time_averaged/Not_normalized\n",
      "/LES_budgets/BU_KE/Cartesian/Not_time_averaged/Not_normalized/cart\n",
      "/LES_budgets/BU_KE/Cartesian/Not_time_averaged/Normalized\n",
      "/LES_budgets/BU_KE/Cartesian/Not_time_averaged/Normalized/cart\n",
      "/LES_budgets/BU_KE/Cartesian/Time_averaged\n",
      "/LES_budgets/BU_KE/Cartesian/Time_averaged/Not_normalized\n",
      "/LES_budgets/BU_KE/Cartesian/Time_averaged/Not_normalized/cart\n",
      "/LES_budgets/BU_KE/Cartesian/Time_averaged/Normalized\n",
      "/LES_budgets/BU_KE/Cartesian/Time_averaged/Normalized/cart\n",
      "/LES_budgets/BU_THL2\n",
      "/LES_budgets/BU_THL2/Cartesian\n",
      "/LES_budgets/BU_THL2/Cartesian/Not_time_averaged\n",
      "/LES_budgets/BU_THL2/Cartesian/Not_time_averaged/Not_normalized\n",
      "/LES_budgets/BU_THL2/Cartesian/Not_time_averaged/Not_normalized/cart\n",
      "/LES_budgets/BU_THL2/Cartesian/Not_time_averaged/Normalized\n",
      "/LES_budgets/BU_THL2/Cartesian/Not_time_averaged/Normalized/cart\n",
      "/LES_budgets/BU_THL2/Cartesian/Time_averaged\n",
      "/LES_budgets/BU_THL2/Cartesian/Time_averaged/Not_normalized\n",
      "/LES_budgets/BU_THL2/Cartesian/Time_averaged/Not_normalized/cart\n",
      "/LES_budgets/BU_THL2/Cartesian/Time_averaged/Normalized\n",
      "/LES_budgets/BU_THL2/Cartesian/Time_averaged/Normalized/cart\n",
      "/LES_budgets/BU_WTHL\n",
      "/LES_budgets/BU_WTHL/Cartesian\n",
      "/LES_budgets/BU_WTHL/Cartesian/Not_time_averaged\n",
      "/LES_budgets/BU_WTHL/Cartesian/Not_time_averaged/Not_normalized\n",
      "/LES_budgets/BU_WTHL/Cartesian/Not_time_averaged/Not_normalized/cart\n",
      "/LES_budgets/BU_WTHL/Cartesian/Not_time_averaged/Normalized\n",
      "/LES_budgets/BU_WTHL/Cartesian/Not_time_averaged/Normalized/cart\n",
      "/LES_budgets/BU_WTHL/Cartesian/Time_averaged\n",
      "/LES_budgets/BU_WTHL/Cartesian/Time_averaged/Not_normalized\n",
      "/LES_budgets/BU_WTHL/Cartesian/Time_averaged/Not_normalized/cart\n",
      "/LES_budgets/BU_WTHL/Cartesian/Time_averaged/Normalized\n",
      "/LES_budgets/BU_WTHL/Cartesian/Time_averaged/Normalized/cart\n",
      "/LES_budgets/BU_RT2\n",
      "/LES_budgets/BU_RT2/Cartesian\n",
      "/LES_budgets/BU_RT2/Cartesian/Not_time_averaged\n",
      "/LES_budgets/BU_RT2/Cartesian/Not_time_averaged/Not_normalized\n",
      "/LES_budgets/BU_RT2/Cartesian/Not_time_averaged/Not_normalized/cart\n",
      "/LES_budgets/BU_RT2/Cartesian/Not_time_averaged/Normalized\n",
      "/LES_budgets/BU_RT2/Cartesian/Not_time_averaged/Normalized/cart\n",
      "/LES_budgets/BU_RT2/Cartesian/Time_averaged\n",
      "/LES_budgets/BU_RT2/Cartesian/Time_averaged/Not_normalized\n",
      "/LES_budgets/BU_RT2/Cartesian/Time_averaged/Not_normalized/cart\n",
      "/LES_budgets/BU_RT2/Cartesian/Time_averaged/Normalized\n",
      "/LES_budgets/BU_RT2/Cartesian/Time_averaged/Normalized/cart\n",
      "/LES_budgets/BU_WRT\n",
      "/LES_budgets/BU_WRT/Cartesian\n",
      "/LES_budgets/BU_WRT/Cartesian/Not_time_averaged\n",
      "/LES_budgets/BU_WRT/Cartesian/Not_time_averaged/Not_normalized\n",
      "/LES_budgets/BU_WRT/Cartesian/Not_time_averaged/Not_normalized/cart\n",
      "/LES_budgets/BU_WRT/Cartesian/Not_time_averaged/Normalized\n",
      "/LES_budgets/BU_WRT/Cartesian/Not_time_averaged/Normalized/cart\n",
      "/LES_budgets/BU_WRT/Cartesian/Time_averaged\n",
      "/LES_budgets/BU_WRT/Cartesian/Time_averaged/Not_normalized\n",
      "/LES_budgets/BU_WRT/Cartesian/Time_averaged/Not_normalized/cart\n",
      "/LES_budgets/BU_WRT/Cartesian/Time_averaged/Normalized\n",
      "/LES_budgets/BU_WRT/Cartesian/Time_averaged/Normalized/cart\n",
      "/LES_budgets/BU_THLR\n",
      "/LES_budgets/BU_THLR/Cartesian\n",
      "/LES_budgets/BU_THLR/Cartesian/Not_time_averaged\n",
      "/LES_budgets/BU_THLR/Cartesian/Not_time_averaged/Not_normalized\n",
      "/LES_budgets/BU_THLR/Cartesian/Not_time_averaged/Not_normalized/cart\n",
      "/LES_budgets/BU_THLR/Cartesian/Not_time_averaged/Normalized\n",
      "/LES_budgets/BU_THLR/Cartesian/Not_time_averaged/Normalized/cart\n",
      "/LES_budgets/BU_THLR/Cartesian/Time_averaged\n",
      "/LES_budgets/BU_THLR/Cartesian/Time_averaged/Not_normalized\n",
      "/LES_budgets/BU_THLR/Cartesian/Time_averaged/Not_normalized/cart\n",
      "/LES_budgets/BU_THLR/Cartesian/Time_averaged/Normalized\n",
      "/LES_budgets/BU_THLR/Cartesian/Time_averaged/Normalized/cart\n",
      "/LES_budgets/Two_point_correlation\n",
      "/LES_budgets/Two_point_correlation/Not_time_averaged\n",
      "/LES_budgets/Two_point_correlation/Not_time_averaged/Not_normalized\n",
      "/LES_budgets/Two_point_correlation/Time_averaged\n",
      "/LES_budgets/Two_point_correlation/Time_averaged/Not_normalized\n",
      "/LES_budgets/Spectrum\n",
      "/LES_budgets/Spectrum/Not_time_averaged\n",
      "/LES_budgets/Spectrum/Not_time_averaged/Not_normalized\n",
      "/LES_budgets/Spectrum/Time_averaged\n",
      "/LES_budgets/Spectrum/Time_averaged/Not_normalized\n"
     ]
    }
   ],
   "source": [
    "print('Liste de tous les groupes HDF5 dans le fichier :')\n",
    "for lv1 in fl_dia.groups.values():\n",
    "    print(lv1.path)\n",
    "    for lv2 in lv1.groups.values():\n",
    "        print(lv2.path)\n",
    "        for lv3 in lv2.groups.values():\n",
    "            print(lv3.path)\n",
    "            for lv4 in lv3.groups.values():\n",
    "                print(lv4.path)\n",
    "                for lv5 in lv4.groups.values():\n",
    "                    print(lv5.path)\n",
    "                    for lv6 in lv5.groups.values():\n",
    "                        print(lv6.path)\n",
    "                        for lv7 in lv6.groups.values():\n",
    "                            print(lv7.path)"
   ]
  },
  {
   "cell_type": "markdown",
   "metadata": {
    "slideshow": {
     "slide_type": "subslide"
    }
   },
   "source": [
    "#### Budgets\n",
    "\n",
    "##### Liste des dimensions et coordonnées si utilisation d'une boîte cartésienne (CBUTYPE='CART')\n",
    "\n",
    "*  *cart\\_ni, cart\\_ni\\_u, cart\\_ni\\_v*: points of the budget cartesian box in the I-direction (for mass-, u- and v-points respectively)\n",
    "*  *cart\\_nj, cart\\_nj\\_u, cart\\_nj\\_v*: points of the budget cartesian box in the J-direction (for mass-, u- and v-points respectively)\n",
    "*  *cart\\_level, cart\\_level\\_w*: vertical levels of the budget cartesian box (for mass- and w-points respectively)\n",
    "*  *time\\_budget*: middle of each time interval used to compute temporally averaged budgets\n",
    "*  *time\\_budget\\_bounds* (no dimension, only for coordinates): boundaries of each time interval"
   ]
  },
  {
   "cell_type": "markdown",
   "metadata": {
    "slideshow": {
     "slide_type": "-"
    }
   },
   "source": [
    "##### Liste des dimensions et coordonnées si utilisation de masques horizontaux (CBUTYPE='MASK')\n",
    "\n",
    "*  *mask\\_level, mask\\_level\\_w*: vertical levels of the horizontal budget masks (for mass- and w-points respectively)\n",
    "*  *time\\_budget*: middle of each time interval used to compute temporally averaged budgets\n",
    "*  *time\\_budget\\_bounds* (no dimension, only for coordinates): boundaries of each time interval\n",
    "*  *nbumask* (only dimension, no corresponding coordinate): number of horizontal masks"
   ]
  },
  {
   "cell_type": "markdown",
   "metadata": {
    "slideshow": {
     "slide_type": "subslide"
    }
   },
   "source": [
    "##### Description des niveaux (groupes HDF5)\n",
    "\n",
    "*  *category*: 'Budgets'\n",
    "*  *subcategory*: not used (merged into category level)\n",
    "*  *group*: possible values:\n",
    "      * 'UU': budget for U\n",
    "      * 'VV': budget for V\n",
    "      * 'WW': budget for W\n",
    "      * 'TH': budget for potential temperature\n",
    "      * 'TK': budget for turbulent kinetic energy\n",
    "      * 'RV': budget for water vapor mixing ratio\n",
    "      * 'RC': budget for cloud water mixing ratio\n",
    "      * 'RR': budget for rain water mixing ratio\n",
    "      * 'RI': budget for cloud ice mixing ratio\n",
    "      * 'RS': budget for snow/aggregate mixing ratio\n",
    "      * 'RG': budget for graupel mixing ratio\n",
    "      * 'RH': budget for hail mixing ratio\n",
    "      * CSVNAMES: budget for scalar variables (names are taken from the CSVNAMES array)\n",
    "      * 'RhodJ': mass of dry air contained in the mesh cells\n",
    "*  *shape*: 'Cartesian' or 'Mask' (not used, merged into group level)\n",
    "*  *timeavg*: 'Time\\_averaged' (not used, merged into group level)\n",
    "*  *norm*: 'Not\\_normalized' (not used, merged into group level)\n",
    "*  *mask*: not used (value set to reference the name of the variable used to store the masks if CBUTYPE='MASK', merged into group level)\n",
    "\n",
    "Remarques :\n",
    "\n",
    "*  if CBUTYPE='MASK', the masks are stored in the variable named 'MASKS' (stored in the root level of the diachronic file)\n",
    "*  some of the dimensions might not appear if there is averaging in the corresponding direction (see LBU\\_ICP, LBU\\_JCP and LBU\\_KCP options of the NAM\\_BUDGET namelist)\n",
    "*  some metadata is also available in the file and provide information about the boundaries of the cartesian box or masks, averaging in the different dimensions..."
   ]
  },
  {
   "cell_type": "code",
   "execution_count": 24,
   "metadata": {
    "scrolled": false,
    "slideshow": {
     "slide_type": "subslide"
    }
   },
   "outputs": [
    {
     "name": "stdout",
     "output_type": "stream",
     "text": [
      "Chemin groupe HDF5 :  /Budgets\n",
      "Groupe HDF5 :  Budgets\n",
      "Attributs :\n",
      "  levels                         = category subcategory\n",
      "  category                       = Budgets\n",
      "  comment                        = Level for the different budgets\n",
      "  subcategory                    = \n",
      "Liste des dimensions : \n",
      "Sous-groupes:\n",
      "   RhodJ\n",
      "   UU\n",
      "   VV\n",
      "   TK\n",
      "Variables:\n",
      "----------------------------------------------------------------------------------\n"
     ]
    }
   ],
   "source": [
    "print_group(fl_dia,'/Budgets')"
   ]
  },
  {
   "cell_type": "code",
   "execution_count": 25,
   "metadata": {
    "scrolled": true,
    "slideshow": {
     "slide_type": "subslide"
    }
   },
   "outputs": [
    {
     "name": "stdout",
     "output_type": "stream",
     "text": [
      "Chemin groupe HDF5 :  /Budgets/RhodJ\n",
      "Groupe HDF5 :  RhodJ\n",
      "Attributs :\n",
      "  levels                         = group shape timeavg norm mask\n",
      "  group                          = RhodJ\n",
      "  comment                        = mass of dry air contained in the mesh cells\n",
      "  shape                          = Cartesian\n",
      "  moving                         = no\n",
      "  min_I_index_in_physical_domain = 15\n",
      "  max_I_index_in_physical_domain = 64\n",
      "  min_J_index_in_physical_domain = 15\n",
      "  max_J_index_in_physical_domain = 68\n",
      "  min_K_index_in_physical_domain = 2\n",
      "  max_K_index_in_physical_domain = 50\n",
      "  averaged_in_the_I_direction    = no\n",
      "  averaged_in_the_J_direction    = no\n",
      "  averaged_in_the_K_direction    = yes\n",
      "  time_averaged                  = yes\n",
      "  normalized                     = no\n",
      "  mask                           = \n",
      "Liste des dimensions : \n",
      "Sous-groupes:\n",
      "Variables:\n",
      "   RhodJX\n",
      "   RhodJY\n",
      "   RhodJS\n",
      "----------------------------------------------------------------------------------\n",
      "Chemin groupe HDF5 :  /Budgets/UU\n",
      "Groupe HDF5 :  UU\n",
      "Attributs :\n",
      "  levels                         = group shape timeavg norm mask\n",
      "  group                          = UU\n",
      "  comment                        = Budget for U\n",
      "  shape                          = Cartesian\n",
      "  moving                         = no\n",
      "  min_I_index_in_physical_domain = 15\n",
      "  max_I_index_in_physical_domain = 64\n",
      "  min_J_index_in_physical_domain = 15\n",
      "  max_J_index_in_physical_domain = 68\n",
      "  min_K_index_in_physical_domain = 2\n",
      "  max_K_index_in_physical_domain = 50\n",
      "  averaged_in_the_I_direction    = no\n",
      "  averaged_in_the_J_direction    = no\n",
      "  averaged_in_the_K_direction    = yes\n",
      "  time_averaged                  = yes\n",
      "  normalized                     = no\n",
      "  mask                           = \n",
      "Liste des dimensions : \n",
      "Sous-groupes:\n",
      "Variables:\n",
      "   ENDF\n",
      "   INIF\n",
      "   AVEF\n",
      "   ADV\n",
      "   VTURB\n",
      "----------------------------------------------------------------------------------\n",
      "Chemin groupe HDF5 :  /Budgets/VV\n",
      "Groupe HDF5 :  VV\n",
      "Attributs :\n",
      "  levels                         = group shape timeavg norm mask\n",
      "  group                          = VV\n",
      "  comment                        = Budget for V\n",
      "  shape                          = Cartesian\n",
      "  moving                         = no\n",
      "  min_I_index_in_physical_domain = 15\n",
      "  max_I_index_in_physical_domain = 64\n",
      "  min_J_index_in_physical_domain = 15\n",
      "  max_J_index_in_physical_domain = 68\n",
      "  min_K_index_in_physical_domain = 2\n",
      "  max_K_index_in_physical_domain = 50\n",
      "  averaged_in_the_I_direction    = no\n",
      "  averaged_in_the_J_direction    = no\n",
      "  averaged_in_the_K_direction    = yes\n",
      "  time_averaged                  = yes\n",
      "  normalized                     = no\n",
      "  mask                           = \n",
      "Liste des dimensions : \n",
      "Sous-groupes:\n",
      "Variables:\n",
      "   AVEF\n",
      "   ASSE\n",
      "   INIF\n",
      "   ENDF\n",
      "   CURV\n",
      "   ADV\n",
      "   PRES\n",
      "   REL\n",
      "   VTURB\n",
      "----------------------------------------------------------------------------------\n",
      "Chemin groupe HDF5 :  /Budgets/TK\n",
      "Groupe HDF5 :  TK\n",
      "Attributs :\n",
      "  levels                         = group shape timeavg norm mask\n",
      "  group                          = TK\n",
      "  comment                        = Budget for turbulent kinetic energy\n",
      "  shape                          = Cartesian\n",
      "  moving                         = no\n",
      "  min_I_index_in_physical_domain = 15\n",
      "  max_I_index_in_physical_domain = 64\n",
      "  min_J_index_in_physical_domain = 15\n",
      "  max_J_index_in_physical_domain = 68\n",
      "  min_K_index_in_physical_domain = 2\n",
      "  max_K_index_in_physical_domain = 50\n",
      "  averaged_in_the_I_direction    = no\n",
      "  averaged_in_the_J_direction    = no\n",
      "  averaged_in_the_K_direction    = yes\n",
      "  time_averaged                  = yes\n",
      "  normalized                     = no\n",
      "  mask                           = \n",
      "Liste des dimensions : \n",
      "Sous-groupes:\n",
      "Variables:\n",
      "   ENDF\n",
      "   INIF\n",
      "   AVEF\n",
      "   DP\n",
      "   TP\n",
      "----------------------------------------------------------------------------------\n"
     ]
    }
   ],
   "source": [
    "grp=fl_dia['/Budgets']\n",
    "\n",
    "grpname='Budgets'\n",
    "file=fl_dia\n",
    "\n",
    "for sgrpname in grp.groups:\n",
    "    sgrpnamefull='/'+grpname+'/'+sgrpname\n",
    "    print_group(file,sgrpnamefull)"
   ]
  },
  {
   "cell_type": "code",
   "execution_count": 26,
   "metadata": {
    "scrolled": false,
    "slideshow": {
     "slide_type": "subslide"
    }
   },
   "outputs": [
    {
     "name": "stdout",
     "output_type": "stream",
     "text": [
      "Variable :  ADV\n",
      "Type :  float64\n",
      "Liste des dimensions : \n",
      "   time_budget\n",
      "   cart_nj_u\n",
      "   cart_ni_u\n",
      "Taille(s) : \n",
      "   20\n",
      "   54\n",
      "   50\n",
      "Attributs :\n",
      "  long_name            = advection\n",
      "  units                = m s-2\n",
      "  grid                 = 2\n",
      "  comment              = Budget of momentum along X axis: advection source term\n",
      "  _FillValue           = 9.969209968386869e+36\n",
      "  valid_min            = -1e+36\n",
      "  valid_max            = 1e+36\n"
     ]
    }
   ],
   "source": [
    "print_field(fl_dia['/Budgets/UU'],'ADV')"
   ]
  },
  {
   "cell_type": "markdown",
   "metadata": {
    "slideshow": {
     "slide_type": "subslide"
    }
   },
   "source": [
    "#### Budgets LES\n",
    "\n",
    "##### Liste des dimensions\n",
    "\n",
    "*  *time\\_les*: sampling times\n",
    "*  *time\\_les\\_avg*: middle of each time interval used to compute temporally averaged LES budgets\n",
    "*  *time\\_les\\_avg\\_bounds* (no dimension, only for coordinates): boundaries of each time\\_les\\_avg interval\n",
    "*  *level\\_les*: vertical levels\n",
    "*  *nsv* (only dimension, no corresponding coordinate): number of scalar variables\n",
    "*  *npdf* (only dimension, no corresponding coordinate): number of PDF intervals (see NAM\\_PDF namelist)\n",
    "*  *nspectra\\_2pts\\_ni, nspectra\\_2pts\\_nj* (only dimension, no corresponding coordinate): number of horizontal wavelengths for non-local LES budgets (2 points correlations) in I and J dimensions\n",
    "*  *nspectra\\_spec\\_ni, nspectra\\_spec\\_nj* (only dimension, no corresponding coordinate): number of horizontal wavelengths for LES spectra budgets in I and J dimensions\n",
    "*  *nspectra\\_level*: vertical levels for non-local LES budgets"
   ]
  },
  {
   "cell_type": "markdown",
   "metadata": {
    "slideshow": {
     "slide_type": "subslide"
    }
   },
   "source": [
    "##### Description des niveaux (groupes HDF5)\n",
    "\n",
    "*  *category*: 'LES\\_budgets'\n",
    "*  *subcategory*: not used (merged into category level)\n",
    "*  *group*: possible values:\n",
    "      * 'Mean': mean vertical profiles of the model variables\n",
    "      * 'PDF'\n",
    "      * 'Resolved': mean vertical profiles of the resolved fluxes, variances and covariances\n",
    "      * 'Subgrid': mean vertical profiles of the subgrid fluxes, variances and covariances\n",
    "      * 'Updraft': updraft vertical profiles of some resolved and subgrid fluxes, variances and covariances\n",
    "      * 'Downdraft': downdraft vertical profiles of some resolved and subgrid fluxes, variances and covariances\n",
    "      * 'Radiation': radiative terms\n",
    "      * 'Surface': averaged surface fields\n",
    "      * 'Two\\_point\\_correlation'\n",
    "      * 'Spectrum'\n",
    "      * 'BU\\_KE': total (resolved+subgrid) kinetic energy budget\n",
    "      * 'BU\\_THL2': temperature variance budget\n",
    "      * 'BU\\_WTHL': temperature flux budget\n",
    "      * 'BU\\_RT2': total water variance budget\n",
    "      * 'BU\\_WRT': total water flux budget\n",
    "      * 'BU\\_THLR': liquid potential temperature - total water covariance budget\n",
    "      * 'BU\\_SV2': total scalar variance budget (for scalar variables)\n",
    "      * 'BU\\_WSV': total water flux budget (for scalar variables)\n",
    "      * 'Miscellaneous': miscellaneous terms (geometry, various unclassified averaged terms...)\n",
    "*  *shape*: 'Cartesian' (not set, not used and merged onto group level if group='Two\\_point\\_correlation' or 'Spectrum')\n",
    "*  *timeavg*: 'Time\\_averaged' or 'Not\\_time\\_averaged'\n",
    "*  *norm*: 'Normalized' or 'Not\\_normalized'\n",
    "*  *mask*: level enabled even if no masks are used, in that case it is set to 'cart'. Except if group='Two\\_point\\_correlation' or 'Spectrum' (in that case: not set, not used and merged into norm level).  Possible values:\n",
    "      * 'cart' (no mask)\n",
    "      * 'neb', 'clear' if LLES\\_NEB\\_MASK=TRUE\n",
    "      * 'core', 'env' if LLES\\_CORE\\_MASK=TRUE\n",
    "      * 'usernnn' (with $nnn$ the number of the mask) if LLES\\_MY\\_MASK=TRUE\n",
    "      * 'cs1', 'cs2', 'cs3' if LLES\\_CS\\_MASK=TRUE\n",
    "\n",
    "Remarques :\n",
    "\n",
    "*  some of the dimensions might not appear depending on the option set in the NAM\\_LES and NAM\\_PDF namelists\n",
    "*  some metadata is also available in the file and provide information about the boundaries of the cartesian box or masks, averaging in the different dimensions, normalization..."
   ]
  },
  {
   "cell_type": "markdown",
   "metadata": {
    "slideshow": {
     "slide_type": "subslide"
    }
   },
   "source": [
    "#### Flyers\n",
    "\n",
    "##### Liste des dimensions\n",
    "\n",
    "*  *time\\_flyer*: sampling times (different for each flyer)\n",
    "\n",
    "##### Description des niveaux (groupes HDF5)\n",
    "\n",
    "*  *category*: 'Flyers'\n",
    "*  *subcategory*: 'Aircrafts', 'Radiosonde\\_balloons, 'Isodensity\\_balloons', 'Constant\\_volume\\_balloons'\n",
    "*  *group*: name of the flyer\n",
    "*  *shape*: 'Point' or 'Vertical\\_profile'\n",
    "*  *timeavg*: 'Not\\_time\\_averaged' (not used, merged into shape level)\n",
    "*  *norm*: 'Not\\_normalized' (not used, merged into shape level)\n",
    "*  *mask*: not set, not used, merged into shape level"
   ]
  },
  {
   "cell_type": "code",
   "execution_count": 27,
   "metadata": {
    "scrolled": false,
    "slideshow": {
     "slide_type": "subslide"
    }
   },
   "outputs": [
    {
     "name": "stdout",
     "output_type": "stream",
     "text": [
      "Chemin groupe HDF5 :  /Flyers/Constant_volume_balloons\n",
      "Groupe HDF5 :  Constant_volume_balloons\n",
      "Attributs :\n",
      "  levels                         = subcategory\n",
      "  subcategory                    = Constant_volume_balloons\n",
      "  comment                        = Level for the flyers of type: Constant_volume_balloons\n",
      "Liste des dimensions : \n",
      "Sous-groupes:\n",
      "   CVB1MOBI\n",
      "   CVB2MOBI\n",
      "Variables:\n",
      "----------------------------------------------------------------------------------\n",
      "Chemin groupe HDF5 :  /Flyers/Aircrafts\n",
      "Groupe HDF5 :  Aircrafts\n",
      "Attributs :\n",
      "  levels                         = subcategory\n",
      "  subcategory                    = Aircrafts\n",
      "  comment                        = Level for the flyers of type: Aircrafts\n",
      "Liste des dimensions : \n",
      "Sous-groupes:\n",
      "   DIMO19A\n",
      "Variables:\n",
      "----------------------------------------------------------------------------------\n"
     ]
    }
   ],
   "source": [
    "grp=fl_dia['/Flyers']\n",
    "\n",
    "grpname='Flyers'\n",
    "file=fl_dia\n",
    "\n",
    "for sgrpname in grp.groups:\n",
    "    sgrpnamefull='/'+grpname+'/'+sgrpname\n",
    "    print_group(file,sgrpnamefull)"
   ]
  },
  {
   "cell_type": "code",
   "execution_count": 28,
   "metadata": {
    "scrolled": false,
    "slideshow": {
     "slide_type": "subslide"
    }
   },
   "outputs": [
    {
     "name": "stdout",
     "output_type": "stream",
     "text": [
      "Chemin groupe HDF5 :  /Constant_volume_balloons/CVB1MOBI\n",
      "Groupe HDF5 :  CVB1MOBI\n",
      "Attributs :\n",
      "  levels                         = group\n",
      "  group                          = CVB1MOBI\n",
      "  comment                        = Values for flyer CVB1MOBI\n",
      "Liste des dimensions : \n",
      "   time_flyer\n",
      "Sous-groupes:\n",
      "   Point\n",
      "   Vertical_profile\n",
      "Variables:\n",
      "   time_flyer\n",
      "----------------------------------------------------------------------------------\n",
      "Chemin groupe HDF5 :  /Constant_volume_balloons/CVB2MOBI\n",
      "Groupe HDF5 :  CVB2MOBI\n",
      "Attributs :\n",
      "  levels                         = group\n",
      "  group                          = CVB2MOBI\n",
      "  comment                        = Values for flyer CVB2MOBI\n",
      "Liste des dimensions : \n",
      "   time_flyer\n",
      "Sous-groupes:\n",
      "   Point\n",
      "   Vertical_profile\n",
      "Variables:\n",
      "   time_flyer\n",
      "----------------------------------------------------------------------------------\n"
     ]
    }
   ],
   "source": [
    "grp=fl_dia['/Flyers/Constant_volume_balloons']\n",
    "\n",
    "grpname='Constant_volume_balloons'\n",
    "file=fl_dia['Flyers']\n",
    "\n",
    "for sgrpname in grp.groups:\n",
    "    sgrpnamefull='/'+grpname+'/'+sgrpname\n",
    "    print_group(file,sgrpnamefull)"
   ]
  },
  {
   "cell_type": "code",
   "execution_count": 29,
   "metadata": {
    "scrolled": false,
    "slideshow": {
     "slide_type": "subslide"
    }
   },
   "outputs": [
    {
     "name": "stdout",
     "output_type": "stream",
     "text": [
      "Chemin groupe HDF5 :  /CVB1MOBI/Point\n",
      "Groupe HDF5 :  Point\n",
      "Attributs :\n",
      "  levels                         = shape timeavg norm mask\n",
      "  shape                          = Point\n",
      "  comment                        = Values at position of flyer CVB1MOBI\n",
      "  moving                         = yes\n",
      "  time_averaged                  = no\n",
      "  normalized                     = no\n",
      "  mask                           = \n",
      "Liste des dimensions : \n",
      "Sous-groupes:\n",
      "Variables:\n",
      "   ZS\n",
      "   Z\n",
      "   MODEL\n",
      "   LON\n",
      "   LAT\n",
      "   ZON_WIND\n",
      "   MER_WIND\n",
      "   W\n",
      "   Th\n",
      "   Rv\n",
      "   Rhod\n",
      "   Tke\n",
      "   H_FLUX\n",
      "   LE_FLUX\n",
      "   Tke_Diss\n",
      "   Tsrad\n",
      "   X\n",
      "   Y\n",
      "----------------------------------------------------------------------------------\n",
      "Chemin groupe HDF5 :  /CVB1MOBI/Vertical_profile\n",
      "Groupe HDF5 :  Vertical_profile\n",
      "Attributs :\n",
      "  levels                         = shape timeavg norm mask\n",
      "  shape                          = Vertical_profile\n",
      "  comment                        = Vertical profiles at position of flyer CVB1MOBI\n",
      "  moving                         = yes\n",
      "  time_averaged                  = no\n",
      "  normalized                     = no\n",
      "  mask                           = \n",
      "Liste des dimensions : \n",
      "Sous-groupes:\n",
      "Variables:\n",
      "   Rt\n",
      "   Rv\n",
      "   FF\n",
      "   IWC\n",
      "   LWC\n",
      "   Rhod\n",
      "   RARE\n",
      "   RAREatt\n",
      "   W\n",
      "   Z\n",
      "----------------------------------------------------------------------------------\n"
     ]
    }
   ],
   "source": [
    "grp=fl_dia['/Flyers/Constant_volume_balloons/CVB1MOBI']\n",
    "\n",
    "grpname='CVB1MOBI'\n",
    "file=fl_dia['/Flyers/Constant_volume_balloons']\n",
    "\n",
    "for sgrpname in grp.groups:\n",
    "    sgrpnamefull='/'+grpname+'/'+sgrpname\n",
    "    print_group(file,sgrpnamefull)"
   ]
  },
  {
   "cell_type": "code",
   "execution_count": 30,
   "metadata": {
    "scrolled": false,
    "slideshow": {
     "slide_type": "subslide"
    }
   },
   "outputs": [
    {
     "name": "stdout",
     "output_type": "stream",
     "text": [
      "Variable :  Tke\n",
      "Type :  float64\n",
      "Liste des dimensions : \n",
      "   time_flyer\n",
      "Taille(s) : \n",
      "   81\n",
      "Attributs :\n",
      "  long_name            = Tke\n",
      "  units                = m2 s-2\n",
      "  comment              = Turbulent kinetic energy\n",
      "  _FillValue           = 9.969209968386869e+36\n",
      "  valid_min            = -1e+36\n",
      "  valid_max            = 1e+36\n"
     ]
    }
   ],
   "source": [
    "print_field(fl_dia['/Flyers/Constant_volume_balloons/CVB1MOBI/Point'],'Tke')"
   ]
  },
  {
   "cell_type": "markdown",
   "metadata": {
    "slideshow": {
     "slide_type": "subslide"
    }
   },
   "source": [
    "#### Profilers\n",
    "\n",
    "##### Liste des dimensions\n",
    "\n",
    "*  *time\\_profiler*: sampling times\n",
    "\n",
    "##### Description des niveaux (groupes HDF5)\n",
    "\n",
    "*  *category*: 'Profilers'\n",
    "*  *subcategory*: not set, not used, merged into category level\n",
    "*  *group*: name of the profiler\n",
    "*  *shape*: 'Point' or 'Vertical\\_profile'\n",
    "*  *timeavg*: 'Not\\_time\\_averaged' (not used, merged into shape level)\n",
    "*  *norm*: 'Not\\_normalized' (not used, merged into shape level)"
   ]
  },
  {
   "cell_type": "markdown",
   "metadata": {
    "slideshow": {
     "slide_type": "subslide"
    }
   },
   "source": [
    "#### Stations\n",
    "\n",
    "##### Liste des dimensions\n",
    "\n",
    "*  *time\\_station*: sampling times\n",
    "\n",
    "##### Description des niveaux (groupes HDF5)\n",
    "\n",
    "*  *category*: 'Stations'\n",
    "*  *subcategory*: not set, not used, merged into category level\n",
    "*  *group*: name of the station\n",
    "*  *shape*: 'Point' (not used, merged into group level)\n",
    "*  *timeavg*: 'Not\\_time\\_averaged' (not used, merged into group level)\n",
    "*  *norm*: 'Not\\_normalized' (not used, merged into group level)\n",
    "*  *mask*: not set, not used, merged into group level"
   ]
  },
  {
   "cell_type": "markdown",
   "metadata": {
    "slideshow": {
     "slide_type": "subslide"
    }
   },
   "source": [
    "#### Time series\n",
    "\n",
    "##### Liste des dimensions\n",
    "\n",
    "*  *series\\_level, series\\_level\\_w*: vertical levels (for mass- and w-points respectively)\n",
    "*  *time\\_series*: sampling times\n",
    "\n",
    "##### Description des niveaux (groupes HDF5)\n",
    "\n",
    "*  *category*: 'Time\\_series'\n",
    "*  *subcategory*: not set, not used, merged into category level\n",
    "*  *group*: 'TSERIES', 'ZTSERIES', 'XTSERIESnn' (with $nn$) the number of y-slice, see NAM\\_SERIESn namelist)\n",
    "*  *shape*: 'Cartesian' (not used, merged into group level)\n",
    "*  *timeavg*: 'Not\\_time\\_averaged' (not used, merged into group level)\n",
    "*  *norm*: 'Not\\_normalized' (not used, merged into group level)\n",
    "*  *mask*: 'GLOB', 'LAND', 'SEA' (if group='XTSERIESnn': not set, not used, merged into group level)"
   ]
  },
  {
   "cell_type": "markdown",
   "metadata": {
    "slideshow": {
     "slide_type": "slide"
    }
   },
   "source": [
    "## Namelistes"
   ]
  },
  {
   "cell_type": "markdown",
   "metadata": {
    "slideshow": {
     "slide_type": "slide"
    }
   },
   "source": [
    "### NAM_BACKUP\n",
    "\n",
    "*  Nameliste pour les fichiers de reprise (backups)\n",
    "*  Remplace NAM_FMOUT depuis Méso-NH version 5.4.0\n",
    "\n",
    "| Variable | Défaut} | Commentaire |\n",
    "| :-       | :-      | :-          |\n",
    "| XBAK_TIME(m,i)          | XNEGUNDEF | temps depuis début segment (en secondes) |\n",
    "| NBAK_STEP(m,i)          | NNEGUNDEF | pas de temps depuis début segment |\n",
    "| XBAK_TIME_FREQ(m)       | XNEGUNDEF | fréquence en temps (en secondes) |\n",
    "| XBAK_TIME_FREQ_FIRST(m) | 0.        | instant premier backup |\n",
    "| NBAK_STEP_FREQ(m)       | NNEGUNDEF | fréquence en pas de temps |\n",
    "| NBAK_STEP_FREQ_FIRST(m) | 1         | pas de temps premier backup |\n",
    "| LBAK_BEG                | .FALSE.   | force écriture après premier pas de temps |\n",
    "| LBAK_END                | .FALSE.   | force écriture après dernier pas de temps |\n",
    "| CBAK_DIR                | ''        | répertoire pour écrire les fichiers de reprise et diachroniques (prioritaire sur CIO_DIR) |\n",
    "\n",
    "*m* pour le numéro du modèle, *i* pour l'instant"
   ]
  },
  {
   "cell_type": "markdown",
   "metadata": {
    "slideshow": {
     "slide_type": "slide"
    }
   },
   "source": [
    "### NAM_OUTPUT\n",
    "\n",
    "*  Nameliste pour les fichiers de sortie (outputs)\n",
    "\n",
    "| Variable | Défaut} | Commentaire |\n",
    "| :-       | :-      | :-          |\n",
    "| COUT_VAR(m,p)                  | ''           | noms des champs à mettre dans output |\n",
    "| XOUT_TIME(m,i)                 | XNEGUNDEF    | temps depuis début segment (en secondes) |\n",
    "| NOUT_STEP(m,i)                 | NNEGUNDEF    | pas de temps depuis début segment |\n",
    "| XOUT_TIME_FREQ(m)              | XNEGUNDEF    | fréquence en temps (en secondes) |\n",
    "| XOUT_TIME_FREQ_FIRST(m)        | 0.           | instant première sortie |\n",
    "| NOUT_STEP_FREQ(m)              | NNEGUNDEF    | fréquence en pas de temps |\n",
    "| NOUT_STEP_FREQ_FIRST(m)        | 1            | pas de temps première sortie |\n",
    "| LOUT_BEG                       | .FALSE.      | force écriture après premier pas de temps |\n",
    "| LOUT_END                       | .FALSE.      | force écriture après dernier pas de temps |\n",
    "| LOUT_REDUCE_FLOAT_PRECISION(m) | .FALSE.      | réduction précision des flottants (netCDF) |\n",
    "| LOUT_COMPRESS(m)               | .FALSE.      | compression données (netCDF) |\n",
    "| NOUT_COMPRESS_LEVEL(m)         |  4           | niveau compression (netCDF) |\n",
    "| LOUT_COMPRESS_LOSSY(m)         | .FALSE.      | compression données avec pertes (netCDF, seulement tableaux de réels) |\n",
    "| COUT_COMPRESS_LOSSY_ALGO(m)    | 'GRANULARBR' | algorithme de quantification ('BitGroom', 'GranularBR' ou 'BitRound') |\n",
    "| NOUT_COMPRESS_LOSSY_NSD(m)     |  3           | nombre de décimales (ou bits) significatifs à conserver |\n",
    "| COUT_DIR                       | ''           | répertoire pour les fichiers de sortie (prioritaire sur CIO\\_DIR) |\n",
    "\n",
    "*m* pour le numéro du modèle, *i* pour l'instant\n",
    "\n",
    "**Attention :** tous les noms de champs ne sont pas (encore) référencés. Si pas disponible, utiliser IO\\_WRITE\\_FIELD\\_USER ou me contacter."
   ]
  },
  {
   "cell_type": "markdown",
   "metadata": {
    "slideshow": {
     "slide_type": "slide"
    }
   },
   "source": [
    "###  NAM_CONFIO\n",
    "\n",
    "*  Nameliste pour la configuration globale des entrées-sorties\n",
    "\n",
    "| Variable | Défaut} | Commentaire |\n",
    "| :-       | :-      | :-          |\n",
    "| LCDF4               | .FALSE.  | active netCDF (forcé à true si *LLFIOUT=.FALSE.*) |\n",
    "| LLFIOUT             | .FALSE.  | écrit les fichiers au format LFI (en plus de netCDF si *LCDF4=.TRUE.*) |\n",
    "| LLFIREAD            | .FALSE.  | force la lecture des fichiers au format LFI |\n",
    "| CIO_DIR             | ''       | répertoire pour les écritures (fichiers *backups*, diachroniques et *outputs*) |\n",
    "| LVERB_OUTLST        | .TRUE.   | messages de diagnostiques dans fichiers *OUTPUT_LISTINGn* |\n",
    "| LVERB_STDOUT        | .FALSE.  | messages de diagnostiques sur la sortie standard |\n",
    "| LVERB_ALLPRC        | .FALSE.  | message de diagnostiques de tous les processus (seulement le premier si *.FALSE.*) |\n",
    "| NGEN_VERB           | 4        | niveau de verbosité pour les messages diagnostiques 'génériques' |\n",
    "| NGEN_ABORT_LEVEL    | 2        | niveau minimum requis de diagnostique 'générique\" pour arrêt forcé de l'application |\n",
    "| NIO_VERB            | 4        | niveau de verbosité pour les messages diagnostiques sur les I/O |\n",
    "| NIO_ABORT_LEVEL     | 2        | niveau minimum requis de diagnostique I/O pour arrêt forcé de l'application |\n",
    "| NBUD_VERB           | 4        | niveau de verbosité pour les messages diagnostiques sur les bilans/budgets |\n",
    "| NBUD_ABORT_LEVEL    | 2        | niveau minimum requis de diagnostique bilans pour arrêt forcé de l'application |\n",
    "| LIO_ALLOW_NO_BACKUP | .FALSE.  | autorise la possibilité de ne pas créer de fichiers de reprises (pour tests) |\n",
    "| LIO_NO_WRITE        | .FALSE.  | désactive toutes les écritures de fichiers (pour tests) |\n",
    "\n",
    "Remarque : si un fichier en lecture n'est pas trouvé dans le format demandé (netCDF ou LFI), Méso-NH tentera d'en trouver un dans l'autre format (extension du fichier)\n",
    "\n",
    "Niveaux de verbosité :\n",
    "\n",
    "| # | Mot clé       | Description     |\n",
    "| :- | :-           | :-              |\n",
    "| 0 | NVERB_NO      | pas de messages |\n",
    "| 1 | NVERB_FATAL   | erreurs fatales |\n",
    "| 2 | NVERB_ERROR   | erreurs         |\n",
    "| 3 | NVERB_WARNING | avertissements  |\n",
    "| 4 | NVERB_INFO    | informations    |\n",
    "| 5 | NVERB_DEBUG   | débogage        |"
   ]
  },
  {
   "cell_type": "markdown",
   "metadata": {
    "slideshow": {
     "slide_type": "slide"
    }
   },
   "source": [
    "### NAM_BU_*\n",
    "\n",
    "Les namelistes *NAM_BU_R* * contiennent 2 entrées chacune (*nn* correspond à la variable pronostique) depuis la version 5.5.0. Auparavant, il y avait une entrée par terme source.\n",
    "\n",
    "*  *LBU_nn* : pour activer ou non la collecte des termes sources du bilan\n",
    "*  *CBULIST_nn* : tableau de chaînes de caractères pour spécifier les noms des termes sources à stocker\n",
    "*  Plusieurs termes sources peuvent être combinés (additionnés) en les spécifiant dans la même entrée séparés par le symbole *+* (plus). Remarque : un terme source ne peut apparaître qu'à une seule position dans *CBULIST_nn*.\n",
    "*  Il est possible de demander l'écriture de l'ensemble des termes sources en spécifiant le mot clé *ALL* en première position dans *CBULIST_nn*.\n",
    "\n",
    "Exemple :\n",
    "```fortran\n",
    "&NAM_BU_RU\n",
    "  LBU_RU = .TRUE.\n",
    "  CBULIST_RU(1)='ADV'\n",
    "  CBULIST_RU(2)='HTURB+VTURB' /\n",
    "&NAM_BU_RV\n",
    "  LBU_RV = .TRUE.\n",
    "  CBULIST_RV(1)='ALL' /\n",
    "```\n",
    "\n",
    "Le choix des autres paramètres des bilans se font grâce à la nameliste *NAM_BUDGET* (pas présentée ici)."
   ]
  },
  {
   "cell_type": "markdown",
   "metadata": {
    "slideshow": {
     "slide_type": "slide"
    }
   },
   "source": [
    "### NAM_CONFZ\n",
    "\n",
    "*  Nameliste pour la configuration du découpage en plans verticaux\n",
    "*  Cette nameliste contient aussi des variables non pertinentes pour les entrées-sorties (pas montrées ici)\n",
    "\n",
    "| Variable | Défaut  | Commentaire |\n",
    "| :-       | :-      | :-          |\n",
    "| NB_PROCIO_R | 1 | nombre de fichiers et de processus utilisés pour le découpage en niveaux verticaux en lecture  |\n",
    "| NB_PROCIO_W | 1 | nombre de fichiers et de processus utilisés pour le découpage en niveaux verticaux en écriture | "
   ]
  },
  {
   "cell_type": "markdown",
   "metadata": {
    "slideshow": {
     "slide_type": ""
    }
   },
   "source": [
    "<a id='code_source'></a>\n",
    "## Code source\n",
    "\n",
    "Dans cette partie, sont évoqués :\n",
    "*  la [gestion des fichiers](#gestion_fichiers) (liste, ouverture, fermeture),\n",
    "*  la [gestion des champs](#gestion_champs),\n",
    "*  les [fichiers d'outputs](#src_fichiers_outputs),\n",
    "*  les [fichiers diachroniques](#src_fichiers_diachro),\n",
    "*  les [messages de diagnostique](#messages)."
   ]
  },
  {
   "cell_type": "markdown",
   "metadata": {
    "slideshow": {
     "slide_type": "subslide"
    }
   },
   "source": [
    "<a id=\"gestion_fichiers\"></a>\n",
    "### Gestion des fichiers\n",
    "\n",
    "La gestion des fichiers se fait en 3 phases :\n",
    "*  ajout à la liste des fichiers avec ses caractéristiques,\n",
    "*  ouverture du fichier,\n",
    "*  fermeture du fichier.\n",
    "\n",
    "Remarque : actuellement, il n'est pas possible de retirer un fichier de la liste."
   ]
  },
  {
   "cell_type": "markdown",
   "metadata": {
    "slideshow": {
     "slide_type": "subslide"
    }
   },
   "source": [
    "#### Ajout fichier\n",
    "\n",
    "L'ajout d'un fichier à la liste des fichiers se fait via un appel à *IO_File_add2list*.\n",
    "Cette étape est nécessaire avant de pouvoir l'ouvrir.\n",
    "\n",
    "```fortran\n",
    "SUBROUTINE IO_File_add2list(TPFILE,HNAME,HTYPE,HMODE,                 &\n",
    "                            HFORM,HACCESS,HFORMAT,HDIRNAME,           &\n",
    "                            KLFINPRAR,KLFITYPE,KLFIVERB,KRECL,KMODEL, &\n",
    "                            TPDADFILE,TPDATAFILE,OOLD,OSPLIT_IOZ)\n",
    "\n",
    "TYPE(TFILEDATA),POINTER,         INTENT(INOUT) :: TPFILE    !File structure to return\n",
    "CHARACTER(LEN=*),                INTENT(IN)    :: HNAME     !Filename\n",
    "CHARACTER(LEN=*),                INTENT(IN)    :: HTYPE     !Filetype (backup, output, prepidealcase...)\n",
    "CHARACTER(LEN=*),                INTENT(IN)    :: HMODE     !Opening mode (read, write...)\n",
    "CHARACTER(LEN=*),       OPTIONAL,INTENT(IN)    :: HFORM     !Formatted/unformatted\n",
    "CHARACTER(LEN=*),       OPTIONAL,INTENT(IN)    :: HACCESS   !Direct/sequential/stream\n",
    "CHARACTER(LEN=*),       OPTIONAL,INTENT(IN)    :: HFORMAT   !Fileformat (NETCDF4, LFI, LFICDF4...)\n",
    "CHARACTER(LEN=*),       OPTIONAL,INTENT(IN)    :: HDIRNAME  !File directory\n",
    "INTEGER(KIND=LFIINT),   OPTIONAL,INTENT(IN)    :: KLFINPRAR !Number of predicted articles of the LFI file (non crucial)\n",
    "INTEGER,                OPTIONAL,INTENT(IN)    :: KLFITYPE  !Type of the file (used to generate list of files to transfers)\n",
    "INTEGER,                OPTIONAL,INTENT(IN)    :: KLFIVERB  !LFI verbosity level\n",
    "INTEGER,                OPTIONAL,INTENT(IN)    :: KRECL     !Record length\n",
    "INTEGER,                OPTIONAL,INTENT(IN)    :: KMODEL    !Model number\n",
    "TYPE(TFILEDATA),POINTER,OPTIONAL,INTENT(IN)    :: TPDADFILE !Corresponding dad file\n",
    "TYPE(TFILEDATA),POINTER,OPTIONAL,INTENT(IN)    :: TPDATAFILE!Corresponding data file (used only for DES files)\n",
    "LOGICAL,                OPTIONAL,INTENT(IN)    :: OOLD      !FALSE if new file (should not be found)\n",
    "                                                            !TRUE if the file could already be in the list\n",
    "                                                            !     (add it only if not yet present)\n",
    "logical,                optional,intent(in)    :: osplit_ioz !Is the file split vertically\n",
    "```\n",
    "\n",
    "Liste des types de fichiers autorisés (argument *HTYPE*) :\n",
    "*  CHEMINPUT\n",
    "*  CHEMTAB\n",
    "*  DES\n",
    "*  GPS\n",
    "*  METEO\n",
    "*  NML\n",
    "*  OUTPUTLISTING\n",
    "*  SURFACE_DATA\n",
    "*  TXT\n",
    "*  MNH\n",
    "*  MNHBACKUP\n",
    "*  MNHDIACHRONIC\n",
    "*  MNHDIAG \n",
    "*  MNHOUTPUT\n",
    "*  PGD\n",
    "\n",
    "Liste des modes d'accès autorisés (argument *HMODE*) :\n",
    "*  READ\n",
    "*  WRITE\n",
    "\n",
    "Selon le type de fichiers, certains modes d'accès ne sont pas possibles. Par exemple, les fichiers de type nameliste (*NML*) ne peuvent être ouverts qu'en lecture.\n",
    "\n",
    "Exemple :\n",
    "```fortran\n",
    "USE MODD_IO, ONLY: TFILEDATA\n",
    "USE MODE_IO_MANAGE_STRUCT, only: IO_File_add2list\n",
    "\n",
    "TYPE(TFILEDATA), POINTER :: TZFILE\n",
    "\n",
    "TZFILE => NULL()\n",
    "CALL IO_File_add2list( TZFILE, 'nom_de_mon_fichier', 'MNH', 'READ' )\n",
    "```"
   ]
  },
  {
   "cell_type": "markdown",
   "metadata": {
    "slideshow": {
     "slide_type": "subslide"
    }
   },
   "source": [
    "#### Ouverture fichier\n",
    "\n",
    "Une fois un fichier intégré dans la liste des fichiers, celui-ci peut être ouvert.\n",
    "\n",
    "```fortran\n",
    "recursive SUBROUTINE IO_File_open(TPFILE,KRESP,kmasterrank, HPOSITION,HSTATUS,HPROGRAM_ORIG)\n",
    "\n",
    "TYPE(TFILEDATA),  POINTER,  INTENT(INOUT) :: TPFILE ! File structure\n",
    "INTEGER,          optional, INTENT(OUT)   :: KRESP  ! Return code\n",
    "integer,          optional, intent(in)    :: kmasterrank !Rank of the master process\n",
    "CHARACTER(LEN=*), optional, INTENT(IN)    :: HPOSITION\n",
    "CHARACTER(LEN=*), optional, INTENT(IN)    :: HSTATUS\n",
    "CHARACTER(LEN=*), optional, INTENT(IN)    :: HPROGRAM_ORIG !To emulate a file coming from this program\n",
    "```\n",
    "\n",
    "Exemple :\n",
    "```fortran\n",
    "USE MODE_IO_FILE, only: IO_File_open\n",
    "CALL IO_File_open(TZFILE)\n",
    "```"
   ]
  },
  {
   "cell_type": "markdown",
   "metadata": {
    "slideshow": {
     "slide_type": "subslide"
    }
   },
   "source": [
    "#### Fermeture fichier\n",
    "\n",
    "Lorsque l'on n'a plus besoin d'accéder à un fichier, il peut être fermé. Cette étape bien que non obligatoire est fortement conseillée (surtout en écriture pour éviter les pertes de données), mais aussi pour libérer des ressources.\n",
    "\n",
    "```fortran\n",
    "recursive SUBROUTINE IO_File_close(TPFILE,KRESP,HPROGRAM_ORIG)\n",
    "\n",
    "TYPE(TFILEDATA),            INTENT(INOUT) :: TPFILE ! File structure\n",
    "INTEGER,          OPTIONAL, INTENT(OUT)   :: KRESP  ! Return code\n",
    "CHARACTER(LEN=*), OPTIONAL, INTENT(IN)    :: HPROGRAM_ORIG !To emulate a file coming from this program\n",
    "```\n",
    "\n",
    "Exemple :\n",
    "```fortran\n",
    "USE MODE_IO_FILE, only: IO_File_close\n",
    "CALL IO_File_close(TZFILE)\n",
    "```"
   ]
  },
  {
   "cell_type": "markdown",
   "metadata": {
    "slideshow": {
     "slide_type": "subslide"
    }
   },
   "source": [
    "#### Structure de données *TFILEDATA*\n",
    "\n",
    "Pour information, la structure de données passée en premier argument pour toutes les manipulations de fichiers ressemble à ceci :\n",
    "\n",
    "```fortran\n",
    "!Structure describing the characteristics of a file\n",
    "TYPE TFILEDATA\n",
    "  CHARACTER(LEN=NFILENAMELGTMAX) :: CNAME = '' !Filename\n",
    "  CHARACTER(LEN=:),ALLOCATABLE   :: CDIRNAME   !Directory name\n",
    "  CHARACTER(LEN=13) :: CTYPE   = \"UNKNOWN\" !Filetype (PGD, MNH, DES, NML...)\n",
    "  CHARACTER(LEN=7)  :: CFORMAT = \"UNKNOWN\" !Fileformat (NETCDF4, LFI, LFICDF4...)\n",
    "  CHARACTER(LEN=7)  :: CMODE   = \"UNKNOWN\" !Opening mode (read, write...)\n",
    "  LOGICAL           :: LOPENED = .FALSE.   !Is the file opened\n",
    "  INTEGER           :: NOPEN_CURRENT = 0   !Number of times the file is currently opened (several opens without close are allowed)\n",
    "  INTEGER           :: NOPEN   = 0         !Number of times the file has been opened (during the current execution)\n",
    "  INTEGER           :: NCLOSE  = 0         !Number of times the file has been closed (during the current execution)\n",
    "  !\n",
    "  INTEGER           :: NMASTER_RANK  = -1      !Rank of the master process (no meaning if LMULTIMASTERS=.T.)\n",
    "  INTEGER           :: NMPICOMM      = -1      !MPI communicator used for IO on this file\n",
    "  LOGICAL           :: LMASTER       = .FALSE. !True if process is master of the file (process that open/read/write/close)\n",
    "  LOGICAL           :: LMULTIMASTERS = .FALSE. !True if several processes may access the file\n",
    "#if ( MNH_REDUCE_DIMENSIONS_IN_FILES == 1 )\n",
    "  logical           :: ldimreduced   = .true.  !True if number of dimensions of fields can be reduced (for 2D simulations)\n",
    "#else\n",
    "  logical           :: ldimreduced   = .false. !True if number of dimensions of fields can be reduced (for 2D simulations)\n",
    "#endif\n",
    "  !\n",
    "  INTEGER           :: NSUBFILES_IOZ = 0       !Number of sub-files (Z-split files based on this file)\n",
    "                                               !For example if 2 sub-files and this file is abcd,\n",
    "                                               !the 2 sub-files are abcd.Z001 and abcd.Z002\n",
    "  TYPE(TFILE_ELT),DIMENSION(:),ALLOCATABLE :: TFILES_IOZ !Corresponding Z-split files\n",
    "  !\n",
    "  INTEGER              :: NMODEL = 0              !Model number corresponding to the file (field not always set)\n",
    "  INTEGER,DIMENSION(3) :: NMNHVERSION = (/0,0,0/) !MesoNH version used to create the file\n",
    "  !\n",
    "#ifdef MNH_IOLFI\n",
    "  ! Fields for LFI files\n",
    "  INTEGER(KIND=LFIINT) :: NLFININAR = 0  !Number of articles of the LFI file (only accurate if file opened in read mode)\n",
    "  INTEGER(KIND=LFIINT) :: NLFINPRAR = 0  !Number of predicted articles of the LFI file (non crucial)\n",
    "  INTEGER              :: NLFITYPE  = -1 !Type of the file (used to generate list of files to transfers)\n",
    "  INTEGER              :: NLFIVERB  = 1  !LFI verbosity level\n",
    "  INTEGER(KIND=LFIINT) :: NLFIFLU   = -1 !File identifier\n",
    "#endif\n",
    "  !\n",
    "#ifdef MNH_IOCDF4\n",
    "  ! Fields for netCDF files\n",
    "  INTEGER(KIND=CDFINT)   :: NNCID = -1 !File identifier (corresponding to the actual group)\n",
    "  INTEGER(KIND=CDFINT)   :: NNCNAR = 0 !Number of articles of the netCDF file (only accurate if file opened in read mode)\n",
    "  LOGICAL                :: LNCREDUCE_FLOAT_PRECISION = .FALSE. ! Reduce the precision of floats to single precision\n",
    "                                                                ! instead of double precision\n",
    "  LOGICAL                :: LNCCOMPRESS = .FALSE. ! Do compression on fields\n",
    "  INTEGER(KIND=CDFINT)   :: NNCCOMPRESS_LEVEL = 0 ! Compression level\n",
    "  type(tdimsnc), pointer :: tncdims => Null()     ! Dimensions of netCDF file\n",
    "#endif\n",
    "  !\n",
    "  !Fields for other files\n",
    "  INTEGER :: NLU = -1                      !Logical unit number\n",
    "  INTEGER :: NRECL = -1                    !Fortran RECL (record length)\n",
    "  CHARACTER(LEN=11) :: CFORM   = \"UNKNOWN\" !Fortran FORM (FORMATTED/UNFORMATTED)\n",
    "  CHARACTER(LEN=10) :: CACCESS = \"UNKNOWN\" !Fortran ACCESS (DIRECT/SEQUENTIAL/STREAM)\n",
    "  !\n",
    "  TYPE(TFILEDATA),POINTER :: TDADFILE   => NULL() !Corresponding dad file\n",
    "  TYPE(TFILEDATA),POINTER :: TDESFILE   => NULL() !Corresponding .des file\n",
    "  TYPE(TFILEDATA),POINTER :: TDATAFILE  => NULL() !Corresponding data file (if .des file)\n",
    "  TYPE(TFILEDATA),POINTER :: TMAINFILE  => NULL() !Corresponding main file if the file is an sub-file\n",
    "  !\n",
    "  TYPE(TFILEDATA),POINTER :: TFILE_PREV => NULL()\n",
    "  TYPE(TFILEDATA),POINTER :: TFILE_NEXT => NULL()\n",
    "END TYPE TFILEDATA\n",
    "\n",
    "!Structure containing one pointer to a file\n",
    "!Useful to create arrays of pointers to files\n",
    "TYPE TFILE_ELT\n",
    "  TYPE(TFILEDATA),POINTER :: TFILE => NULL()\n",
    "END TYPE TFILE_ELT\n",
    "\n",
    "```"
   ]
  },
  {
   "cell_type": "markdown",
   "metadata": {
    "slideshow": {
     "slide_type": "slide"
    }
   },
   "source": [
    "<a id=\"gestion_champs\"></a>\n",
    "### Gestion des champs"
   ]
  },
  {
   "cell_type": "markdown",
   "metadata": {
    "slideshow": {
     "slide_type": "subslide"
    }
   },
   "source": [
    "#### Structure de données *TFIELDMETADATA*\n",
    "\n",
    "Avant Méso-NH 5.6.0, les métadonnées étaient définies dans la structure de donnée *TFIELDDATA*.\n",
    "\n",
    "Avant de réaliser des opérations de lecture ou d'écriture, un champ (ou variable) doit avoir des métadonnées associées. Les métadonnées sont des informations sur les caractéristiques de celui-ci.\n",
    "\n",
    "Métadonnées principales :\n",
    "\n",
    "| Nom         | CF  | Description |\n",
    "| :-          | :-  | :-          |\n",
    "| *CMNHNAME*  | non | nom du champ  |\n",
    "| *CSTDNAME*  | oui | nom standard (doit être dans la [liste officielle des conventions CF](http://cfconventions.org/Data/cf-standard-names/current/build/cf-standard-name-table.html)) |\n",
    "| *CLONGNAME* | oui | nom long (description courte) |\n",
    "| *CUNITS*    | oui | unités |\n",
    "| *CCOMMENT*  | non | commentaires |\n",
    "| *NGRID*     | non | numéro de grille Arakawa (mettre 0 si n'a pas de sens) |\n",
    "| *NTYPE*     | non | type des données (TYPEINT, TYPELOG, TYPEREAL, TYPECHAR ou TYPEDATE) |\n",
    "| *NDIMS*     | oui | nombre de dimensions |\n",
    "| *NDIMLIST*  | oui | liste des dimensions |\n",
    "| *CDIR*      | non | direction de distribution des données (--, XX, YY, ZZ ou XY) |\n",
    "| *LTIMEDEP*  | non | vrai si la variable change au cours du temps |\n",
    "\n",
    "Remarques :\n",
    "*  La colonne CF correspond à l'existence de métadonnées dans les [conventions CF](http://cfconventions.org).\n",
    "*  Si le champ n'a pas de [nom standard dans les conventions CF](http://cfconventions.org/Data/cf-standard-names/current/build/cf-standard-name-table.html), le laisser vide mais ne surtout rien y mettre.\n",
    "*  Les unités doivent être compatibles avec [UDUNITS](http://www.unidata.ucar.edu/software/udunits/). Pour des valeurs adimensionnelles, mettre 1 et, si nécessaire, ajouter des informations complémentaires dans *CLONGNAME*.\n",
    "*  Si la liste des dimensions n'est pas fournie, Méso-NH tente de les deviner en fonction du numéro de grille, du nombre de dimensions et de la valeur de *CDIR*. Pour des champs 2D horizontaux ou 3D sur l'ensemble du domaine, cela fonctionne parfaitement.\n",
    "*  *CDIR* permet de stocker une information sur la manière dont les données sont distribuées sur les processus MPI de Méso-NH. Les plus courantes sont *--* (ou valeur vide) pour des données similaires sur tous les processus et *XY* pour des données 2D ou 3D distribuées sur l'ensemble des processus (tous les champs distribués sur les grilles des modèles).\n",
    "*  Toutes les métadonnées ne doivent pas obligatoirement être précisées. Seuls le nom du champ, le numéro de grille et le type de données doivent toujours être donnés. Selon les cas, les valeurs par défaut des autres métadonnées peuvent être suffisantes. Idéalement, il vaut mieux fournir le plus d'informations possible."
   ]
  },
  {
   "cell_type": "markdown",
   "metadata": {
    "slideshow": {
     "slide_type": "subslide"
    }
   },
   "source": [
    "Code source (Méso-NH 5.6.1) :\n",
    "```Fortran\n",
    "type :: tfieldmetadata_base\n",
    "  CHARACTER(LEN=NMNHNAMELGTMAX)  :: CMNHNAME  = '' !Name of the field (for MesoNH, non CF convention)\n",
    "  CHARACTER(LEN=NSTDNAMELGTMAX)  :: CSTDNAME  = '' !Standard name (CF convention)\n",
    "  CHARACTER(LEN=NLONGNAMELGTMAX) :: CLONGNAME = '' !Long name (CF convention)\n",
    "  CHARACTER(LEN=NUNITLGTMAX)     :: CUNITS    = '' !Canonical units (CF convention)\n",
    "  CHARACTER(LEN=NCOMMENTLGTMAX)  :: CCOMMENT  = '' !Comment (for MesoNH, non CF convention)\n",
    "!   CHARACTER(LEN=:),allocatable :: CCOMMENT  !Comment (for MesoNH, non CF convention)\n",
    "  INTEGER            :: NGRID     = NGRIDUNKNOWN !Localization on the model grid\n",
    "  INTEGER            :: NTYPE     = TYPEUNDEF !Datatype\n",
    "  INTEGER            :: NDIMS     = 0  !Number of dimensions\n",
    "  INTEGER, DIMENSION(NMNHMAXDIMS) :: NDIMLIST = NMNHDIM_UNKNOWN ! List of dimensions of the data field\n",
    "  !\n",
    "#ifdef MNH_IOCDF4\n",
    "  INTEGER            :: NFILLVALUE =  NF90_FILL_INT  !Fill value for integer fields\n",
    "  REAL               :: XFILLVALUE =  NF90_FILL_REAL !Fill value for real fields\n",
    "                                                     !NF90_FILL_REAL is the default fill value\n",
    "                                                     !used by netCDF to pre-fill real and also double\n",
    "                                                     !variables\n",
    "#else\n",
    "  INTEGER            :: NFILLVALUE =  -2147483647            !Fill value for integer fields\n",
    "  REAL               :: XFILLVALUE =  9.9692099683868690e+36 !Fill value for real fields\n",
    "#endif\n",
    "  INTEGER            :: NVALIDMIN  = -2147483646 !Minimum valid value for integer fields\n",
    "  INTEGER            :: NVALIDMAX  =  2147483647 !Maximum valid value for integer fields\n",
    "  REAL               :: XVALIDMIN  = -1.E36 !Minimum valid value for real fields\n",
    "  REAL               :: XVALIDMAX  =  1.E36 !Maximum valid value for real fields\n",
    "end type tfieldmetadata_base\n",
    "\n",
    "TYPE, extends( tfieldmetadata_base ) :: TFIELDMETADATA\n",
    "  CHARACTER(LEN=2)   :: CDIR      = '' !Type of the data field (XX,XY,--...)\n",
    "  CHARACTER(LEN=4)   :: CLBTYPE   = 'NONE' !Type of the lateral boundary (LBX,LBY,LBXU,LBYV)\n",
    "  LOGICAL            :: LTIMEDEP  = .FALSE. !Is the field time-dependent?\n",
    "END TYPE TFIELDMETADATA\n",
    "\n",
    "!Structure describing the characteristics of a field\n",
    "TYPE, EXTENDS( TFIELDMETADATA ) :: TFIELDDATA\n",
    "  INTEGER :: NMODELMAX = -1 !Number of models for which the field has been allocated (default value must be negative)\n",
    "  !\n",
    "  TYPE(TFIELDPTR_C0D),DIMENSION(:),ALLOCATABLE :: TFIELD_C0D !Pointer to the character string fields (one per nested mesh)\n",
    "  TYPE(TFIELDPTR_C1D),DIMENSION(:),ALLOCATABLE :: TFIELD_C1D !Pointer to the character string 1D fields (one per nested mesh)\n",
    "  !\n",
    "  TYPE(TFIELDPTR_L0D),DIMENSION(:),ALLOCATABLE :: TFIELD_L0D !Pointer to the scalar logical fields (one per nested mesh)\n",
    "  TYPE(TFIELDPTR_L1D),DIMENSION(:),ALLOCATABLE :: TFIELD_L1D !Pointer to the logical 1D fields (one per nested mesh)\n",
    "  !\n",
    "  TYPE(TFIELDPTR_N0D),DIMENSION(:),ALLOCATABLE :: TFIELD_N0D !Pointer to the scalar integer fields (one per nested mesh)\n",
    "  TYPE(TFIELDPTR_N1D),DIMENSION(:),ALLOCATABLE :: TFIELD_N1D !Pointer to the integer 1D fields (one per nested mesh)\n",
    "  TYPE(TFIELDPTR_N2D),DIMENSION(:),ALLOCATABLE :: TFIELD_N2D !Pointer to the integer 2D fields (one per nested mesh)\n",
    "  TYPE(TFIELDPTR_N3D),DIMENSION(:),ALLOCATABLE :: TFIELD_N3D !Pointer to the integer 3D fields (one per nested mesh)\n",
    "  !\n",
    "  TYPE(TFIELDPTR_X0D),DIMENSION(:),ALLOCATABLE :: TFIELD_X0D !Pointer to the scalar real fields (one per nested mesh)\n",
    "  TYPE(TFIELDPTR_X1D),DIMENSION(:),ALLOCATABLE :: TFIELD_X1D !Pointer to the real 1D fields (one per nested mesh)\n",
    "  TYPE(TFIELDPTR_X2D),DIMENSION(:),ALLOCATABLE :: TFIELD_X2D !Pointer to the real 2D fields (one per nested mesh)\n",
    "  TYPE(TFIELDPTR_X3D),DIMENSION(:),ALLOCATABLE :: TFIELD_X3D !Pointer to the real 3D fields (one per nested mesh)\n",
    "  TYPE(TFIELDPTR_X4D),DIMENSION(:),ALLOCATABLE :: TFIELD_X4D !Pointer to the real 4D fields (one per nested mesh)\n",
    "  TYPE(TFIELDPTR_X5D),DIMENSION(:),ALLOCATABLE :: TFIELD_X5D !Pointer to the real 5D fields (one per nested mesh)\n",
    "  TYPE(TFIELDPTR_X6D),DIMENSION(:),ALLOCATABLE :: TFIELD_X6D !Pointer to the real 6D fields (one per nested mesh)\n",
    "  !\n",
    "  TYPE(TFIELDPTR_T0D),DIMENSION(:),ALLOCATABLE :: TFIELD_T0D !Pointer to the scalar date/time fields (one per nested mesh)\n",
    "  TYPE(TFIELDPTR_T1D),DIMENSION(:),ALLOCATABLE :: TFIELD_T1D !Pointer to the date/time 1D fields (one per nested mesh)\n",
    "END TYPE TFIELDDATA\n",
    "```"
   ]
  },
  {
   "cell_type": "markdown",
   "metadata": {
    "slideshow": {
     "slide_type": "subslide"
    }
   },
   "source": [
    "#### *TFIELDLIST*\n",
    "\n",
    "Une partie des champs de Méso-NH est accessible via la variable *TFIELDLIST* (accessible via le module *MODD_FIELD*).\n",
    "\n",
    "*  Il s'agit d'un tableau d'éléments de type *TFIELDDATA*.\n",
    "*  Il contient les métadonnées d'une série de champs,\n",
    "*  ainsi que des pointeurs vers leur contenu.\n",
    "*  *TFIELDLIST* est actuellement complétée dans la procédure *INI_FIELD_LIST* (*LIB/SURCOUCHE/src/mode_field.f90*)\n",
    "\n"
   ]
  },
  {
   "cell_type": "markdown",
   "metadata": {
    "slideshow": {
     "slide_type": "subslide"
    }
   },
   "source": [
    "##### A partir de Méso-NH 5.6.0\n",
    "\n",
    "Exemple pour le champ *XUT* (Méso-NH 5.6.1) :\n",
    "```fortran\n",
    "SUBROUTINE INI_FIELD_LIST()\n",
    "\n",
    "call Add_field2list( TFIELDDATA(            &\n",
    "  CMNHNAME   = 'UT',                        &\n",
    "  CSTDNAME   = 'x_wind',                    &\n",
    "  CLONGNAME  = 'UT',                        &\n",
    "  CUNITS     = 'm s-1',                     &\n",
    "  CDIR       = 'XY',                        &\n",
    "  CCOMMENT   = 'X_Y_Z_U component of wind', &\n",
    "  NGRID      = 2,                           &\n",
    "  NTYPE      = TYPEREAL,                    &\n",
    "  NDIMS      = 3,                           &\n",
    "  LTIMEDEP   = .TRUE.                       ) )\n",
    "```\n",
    "\n",
    "* *Add_field2list* est une procédure qui gère *TFIELDLIST* en l'agrandissant si ncécessaire (par réallocation) qui prend pour seul argument une structure de type *TFIELDDATA*\n",
    "* *TFIELDDATA(...)* est un constructeur personnalisé (*custom constructor* au sens Fortran 2003). Il s'utilise comme une *subroutine* portant le même nom que la structure de données qu'il traite. La liste des arguments autorisés correspond à tous les champs de cette structure. Dans le cas présent, le seul qui soit obligatoire est le type *NTYPE*. Les autres champs sont tous optionnels et ont des valeurs par défaut ou sont positionnées en fonction des autres informations fournies au constructeur. Néanmoins, il est conseillé d'en fournir le plus possible pour éviter les erreurs."
   ]
  },
  {
   "cell_type": "markdown",
   "metadata": {
    "slideshow": {
     "slide_type": "subslide"
    }
   },
   "source": [
    "##### Avant Méso-NH 5.6.0\n",
    "\n",
    "Exemple pour le champ *XUT* (Méso-NH 5.5.0) :\n",
    "```fortran\n",
    "SUBROUTINE INI_FIELD_LIST(KMODEL)\n",
    "\n",
    "INTEGER,INTENT(IN),OPTIONAL :: KMODEL\n",
    "\n",
    "TFIELDLIST(IDX)%CMNHNAME   = 'UT'\n",
    "TFIELDLIST(IDX)%CSTDNAME   = 'x_wind'\n",
    "TFIELDLIST(IDX)%CLONGNAME  = 'UT'\n",
    "TFIELDLIST(IDX)%CUNITS     = 'm s-1'\n",
    "TFIELDLIST(IDX)%CDIR       = 'XY'\n",
    "TFIELDLIST(IDX)%CCOMMENT   = 'X_Y_Z_U component of wind'\n",
    "TFIELDLIST(IDX)%NGRID      = 2\n",
    "TFIELDLIST(IDX)%NTYPE      = TYPEREAL\n",
    "TFIELDLIST(IDX)%NDIMS      = 3\n",
    "TFIELDLIST(IDX)%LTIMEDEP   = .TRUE.\n",
    "ALLOCATE(TFIELDLIST(IDX)%TFIELD_X3D(IMODEL))\n",
    "```"
   ]
  },
  {
   "cell_type": "markdown",
   "metadata": {
    "slideshow": {
     "slide_type": "subslide"
    }
   },
   "source": [
    "#### Changement de modèle (*grid nesting*)\n",
    "\n",
    "*  Si le champ dépend du modèle imbriqué, il faut mettre à jour le pointeur vers les bonnes données lors des changements de modèles (appelé lors des appels à *GOTO_MODEL*).\n",
    "*  La mise à jour se fait dans *FIELDLIST_GOTO_MODEL*.\n",
    "\n",
    "Exemple pour le champ *XUT* (à partir de Méso-NH 5.6.0) :\n",
    "```fortran\n",
    "SUBROUTINE FIELDLIST_GOTO_MODEL(KFROM, KTO)\n",
    "\n",
    "INTEGER, INTENT(IN) :: KFROM, KTO\n",
    "\n",
    "call Goto_model_1field( 'UT', kfrom, kto, xut )\n",
    "```\n",
    "\n",
    "Exemple pour le champ *XUT* (Méso-NH 5.5.0, déclaré dans le fichier *modd_fieldn.f90*) :\n",
    "```fortran\n",
    "SUBROUTINE FIELDLIST_GOTO_MODEL(KFROM, KTO)\n",
    "\n",
    "INTEGER, INTENT(IN) :: KFROM, KTO\n",
    "\n",
    "CALL FIND_FIELD_ID_FROM_MNHNAME('UT',IID,IRESP); TFIELDLIST(IID)%TFIELD_X3D(KFROM)%DATA => XUT\n",
    "\n",
    "IF( KFROM/=KTO) THEN\n",
    "CALL FIND_FIELD_ID_FROM_MNHNAME('UT',IID,IRESP); XUT => TFIELDLIST(IID)%TFIELD_X3D(KTO)%DATA\n",
    "END IF\n",
    "```"
   ]
  },
  {
   "cell_type": "markdown",
   "metadata": {
    "slideshow": {
     "slide_type": "subslide"
    }
   },
   "source": [
    "*  Une variable présente dans la liste peut être recherchée à partir de son nom\n",
    "\n",
    "```fortran\n",
    "USE MODE_FIELD, only: Find_field_id_from_mnhname\n",
    "\n",
    "CALL FIND_FIELD_ID_FROM_MNHNAME( 'UT', IID, IRESP )\n",
    "```\n",
    "\n",
    "```fortran\n",
    "SUBROUTINE FIND_FIELD_ID_FROM_MNHNAME(HMNHNAME,KID,KRESP,ONOWARNING)\n",
    "!\n",
    "CHARACTER(LEN=*),            INTENT(IN) :: HMNHNAME !Name of the field to find\n",
    "INTEGER,                     INTENT(OUT):: KID      !Index of the field\n",
    "INTEGER,                     INTENT(OUT):: KRESP    !Return-code \n",
    "LOGICAL, OPTIONAL,           INTENT(IN) :: ONOWARNING !If true, do not print warning\n",
    "```\n",
    "\n",
    "* Les champs décrits dans *TFIELDLIST* sont ceux qui peuvent être utilisés dans les fichiers d'*outputs* (sorties fréquentes) via la variable *COUT_VAR* de la nameliste *NAM_OUTPUT*."
   ]
  },
  {
   "cell_type": "markdown",
   "metadata": {
    "slideshow": {
     "slide_type": "subslide"
    }
   },
   "source": [
    "#### Lecture / écriture d'un champ\n",
    "\n",
    "La lecture ou l'écriture d'un champ peut se faire de 2 façons différentes :\n",
    "* en donnant le nom de la variable à la condition que celle-ci soit bien définie dans la liste *TFIELDLIST*\n",
    "* en fournissant les métadonnées dans une structure de type *TFIELDDATA*"
   ]
  },
  {
   "cell_type": "markdown",
   "metadata": {
    "slideshow": {
     "slide_type": "subslide"
    }
   },
   "source": [
    "##### Ecriture\n",
    "\n",
    "En-têtes d'une sélection de sous-programmes d'écriture de champs :\n",
    "\n",
    "```Fortran\n",
    "SUBROUTINE IO_Field_write_byname_X0(TPFILE,HNAME,PFIELD,KRESP)\n",
    "  TYPE(TFILEDATA),           INTENT(IN) :: TPFILE\n",
    "  CHARACTER(LEN=*),          INTENT(IN) :: HNAME    ! name of the field to write\n",
    "  REAL,                      INTENT(IN) :: PFIELD   ! array containing the data field\n",
    "  INTEGER,OPTIONAL,          INTENT(OUT):: KRESP    ! return-code\n",
    "\n",
    "SUBROUTINE IO_Field_write_byfield_X0(TPFILE,TPFIELD,PFIELD,KRESP)\n",
    "  TYPE(TFILEDATA),             INTENT(IN) :: TPFILE\n",
    "  TYPE(TFIELDDATA),            INTENT(IN) :: TPFIELD\n",
    "  REAL,TARGET,                 INTENT(IN) :: PFIELD   ! array containing the data field\n",
    "  INTEGER,OPTIONAL,            INTENT(OUT):: KRESP    ! return-code\n",
    "```\n",
    "\n",
    "Il existe différentes subroutines d'écritures qui acceptent soit un nom de champ, soit une structure *TFIELDDATA*. Il y en a pour différents types de données de base (entiers, flottants, logiques, caractères et dates) et différents nombre de dimensions de tableaux.\n",
    "\n",
    "Elles sont toutes accessibles via un bloc interface *familial* de nom *IO_Field_write*."
   ]
  },
  {
   "cell_type": "markdown",
   "metadata": {
    "slideshow": {
     "slide_type": "subslide"
    }
   },
   "source": [
    "Exemples :\n",
    "```Fortran\n",
    "USE MODD_FIELD,          only: TFIELDDATA\n",
    "USE MODE_IO_FIELD_WRITE, only: IO_Field_write\n",
    "\n",
    "TYPE(TFIELDDATA) :: TZFIELD\n",
    "\n",
    "CALL IO_Field_write( TPFILE, 'UT', XUT )\n",
    "\n",
    "TZFIELD = TFIELDMETADATA(                                     &\n",
    "  CMNHNAME   = 'URECYCLN',                                    &\n",
    "  CLONGNAME  = 'URECYCLN',                                    &\n",
    "  CSTDNAME   = '',                                            &\n",
    "  CUNITS     = 'm s-1',                                       &\n",
    "  CDIR       = 'XY',                                          &\n",
    "  NGRID      = 2,                                             &\n",
    "  NTYPE      = TYPEREAL,                                      &\n",
    "  NDIMS      = 3,                                             &\n",
    "  NDIMLIST   = [ NMNHDIM_NI, NMNHDIM_NJ, NMNHDIM_NOTLISTED ], &\n",
    "  LTIMEDEP   = .TRUE.,                                        &\n",
    "  CCOMMENT   = 'UMEAN-NORTH side plan for recycling purpose'  )\n",
    "  CALL IO_Field_write(TPFILE,TZFIELD,XUMEANN(:,:,:))\n",
    "```\n",
    "\n",
    "* *TFIELDMETADATA(...)* est un constructeur personnalisé (*custom constructor* au sens Fortran 2003). Il s'utilise comme une *subroutine* portant le même nom que la structure de données qu'il traite. La liste des arguments autorisés correspond à tous les champs de cette structure. Dans le cas présent, le seul qui soit obligatoire est le type NTYPE. Les autres champs sont tous optionnels et ont des valeurs par défaut ou sont positionnées en fonction des autres informations fournies au constructeur. Néanmoins, il est conseillé d'en fournir le plus possible pour éviter les erreurs."
   ]
  },
  {
   "cell_type": "markdown",
   "metadata": {
    "slideshow": {
     "slide_type": "subslide"
    }
   },
   "source": [
    "#### Lecture\n",
    "\n",
    "En-têtes d'une sélection de sous-programmes de lecture de champs :\n",
    "\n",
    "```Fortran\n",
    "SUBROUTINE IO_Field_read_byname_X0(TPFILE,HNAME,PFIELD,KRESP)\n",
    "  TYPE(TFILEDATA),  INTENT(IN)    :: TPFILE\n",
    "  CHARACTER(LEN=*), INTENT(IN)    :: HNAME    ! name of the field to write\n",
    "  REAL,             INTENT(INOUT) :: PFIELD   ! data field\n",
    "  INTEGER,OPTIONAL, INTENT(OUT)   :: KRESP    ! return-code\n",
    "\n",
    "SUBROUTINE IO_Field_read_byfield_X0(TPFILE,TPFIELD,PFIELD,KRESP)\n",
    "  TYPE(TFILEDATA),  INTENT(IN)    :: TPFILE\n",
    "  TYPE(TFIELDDATA), INTENT(INOUT) :: TPFIELD\n",
    "  REAL,             INTENT(INOUT) :: PFIELD   ! data field\n",
    "  INTEGER,OPTIONAL, INTENT(OUT)   :: KRESP    ! return-code\n",
    "```\n",
    "\n",
    "Il existe différentes subroutines de lectures qui acceptent soit un nom de champ, soit une structure *TFIELDDATA*. Il y en a pour différents types de données de base (entiers, flottants, logiques, caractères et dates) et différents nombre de dimensions de tableaux.\n",
    "\n",
    "Elles sont toutes accessibles via un bloc interface *familial* de nom *IO_Field_read*."
   ]
  },
  {
   "cell_type": "markdown",
   "metadata": {
    "slideshow": {
     "slide_type": "subslide"
    }
   },
   "source": [
    "Exemples :\n",
    "```Fortran\n",
    "USE MODD_FIELD,          only: TFIELDDATA\n",
    "USE MODE_IO_FIELD_WRITE, only: IO_Field_read\n",
    "\n",
    "TYPE(TFIELDDATA) :: TZFIELD\n",
    "\n",
    "CALL IO_Field_read( TPFILE, 'UT', XUT )\n",
    "\n",
    "TZFIELD = TFIELDMETADATA(                                     &\n",
    "  CMNHNAME   = 'URECYCLN',                                    &\n",
    "  CLONGNAME  = 'URECYCLN',                                    &\n",
    "  CSTDNAME   = '',                                            &\n",
    "  CUNITS     = 'm s-1',                                       &\n",
    "  CDIR       = 'XY',                                          &\n",
    "  NGRID      = 2,                                             &\n",
    "  NTYPE      = TYPEREAL,                                      &\n",
    "  NDIMS      = 3,                                             &\n",
    "  NDIMLIST   = [ NMNHDIM_NI, NMNHDIM_NJ, NMNHDIM_NOTLISTED ], &\n",
    "  LTIMEDEP   = .TRUE.,                                        &\n",
    "  CCOMMENT   = 'UMEAN-NORTH side plan for recycling purpose'  )\n",
    "CALL IO_Field_read(TPINIFILE,TZFIELD,PUMEANN)\n",
    "```\n",
    "\n",
    "Lors de la lecture d'un champ, certaines vérifications sont faites notamment sur ses dimensions qui doivent correspondre à celle des données dans le fichier, mais également sur les métadonnées qui doivent être cohérentes.\n",
    "\n",
    "En cas de différence dans les métadonnées, des messages d'avertissement voire d'erreurs peuvent être affichés. Ils peuvent être gérés via la nameliste *NAM_CONFIO* (paramètres *NIO_VERB* et *NIO_ABORT_LEVEL*)."
   ]
  },
  {
   "cell_type": "markdown",
   "metadata": {
    "slideshow": {
     "slide_type": "slide"
    }
   },
   "source": [
    "<a id=\"src_fichiers_outputs\"></a>\n",
    "### Fichiers d'outputs (sorties fréquentes)\n",
    "\n",
    "*  Permettent de n'écrire qu'une sélection de champs\n",
    "*  Adaptés à des sorties fréquentes\n",
    "*  Ne peuvent servir à un redémarrage de Méso-NH\n",
    "*  Les données peuvent être compressées (sans pertes). Cela peut avoir un impact sur les performances (négatif pour l'étape de compression, positif pour la réduction de la quantité de données à écrire).\n",
    "*  La précision des variables flottantes peut être réduite en simple précision (stockage sur 32 bits). Cela donne un gain d'un facteur 2 en espace disque par rapport à la double précision (qui est généralement le défaut avec MésoNH).\n",
    "\n",
    "La sélection de variables à écrire se fait de 2 façons différentes :\n",
    "\n",
    "*  utilisation de champs présents dans *TFIELDLIST*\n",
    "*  champs utilisateurs (sans passer par *TFIELDLIST*)"
   ]
  },
  {
   "cell_type": "markdown",
   "metadata": {
    "slideshow": {
     "slide_type": "subslide"
    }
   },
   "source": [
    "#### Champs présents dans *TFIELDLIST*\n",
    "\n",
    "Les noms de champs connus de *TFIELDLIST* doivent simplement être donnés dans la nameliste *NAM_OUTPUT* avec le paramètre *COUT_VAR*.\n",
    "L'écriture est lancée dans Méso-NH par un appel à *IO_Fieldlist_write*.\n",
    "\n",
    "Exemple :\n",
    "```fortran\n",
    "&NAM_OUTPUT\n",
    "    COUT_VAR(1,1)='UT'\n",
    "    COUT_VAR(1,2)='INPRR'\n",
    "    XOUT_TIME_FREQ(1) = 60.\n",
    "    LOUT_REDUCE_FLOAT_PRECISION = .TRUE.\n",
    "    LOUT_COMPRESS = .TRUE.\n",
    "```"
   ]
  },
  {
   "cell_type": "markdown",
   "metadata": {
    "slideshow": {
     "slide_type": "subslide"
    }
   },
   "source": [
    "#### Champs *utilisateurs* (non présents dans *TFIELDLIST*)\n",
    "\n",
    "Pour les champs inexistants dans *TFIELDLIST*, il est nécessaire de passer par le sous-programme *IO_Field_user_write* (fichier *LIB/SURCOUCHE/src/mode_io_field_write.f90*).\n",
    "\n",
    "Celui-ci contient quelques exemples. Pour ajouter un champ,\n",
    "*  il suffit de compléter ses métadonnées,\n",
    "*  de rendre accessible les données à écrire (via l'utilisation d'un module ou par son calcul localement dans le sous-programme)\n",
    "*  et de faire un appel à *IO_Field_write*.\n",
    "\n",
    "```fortran\n",
    "SUBROUTINE IO_Field_user_write(TPOUTPUT)\n",
    "!\n",
    "USE MODD_FIELD_n,    ONLY: XUT\n",
    "!\n",
    "IMPLICIT NONE\n",
    "!\n",
    "TYPE(TOUTBAK),    INTENT(IN)  :: TPOUTPUT !Output structure\n",
    "!\n",
    "TYPE(TFIELDDATA) :: TZFIELD\n",
    "!\n",
    "INTEGER          :: IKB\n",
    "!\n",
    "IKB=JPVEXT+1\n",
    "!\n",
    "TZFIELD = TFIELDMETADATA( &\n",
    "  CMNHNAME   = 'UTLOW',   &\n",
    "  CLONGNAME  = '',        &\n",
    "  CSTDNAME   = 'x_wind',  &\n",
    "  CUNITS     = 'm s-1',   &\n",
    "  CDIR       = 'XY',      &\n",
    "  CCOMMENT   = 'X-component of wind at lowest physical level', &\n",
    "  NGRID      = 2,         &\n",
    "  NTYPE      = TYPEREAL,  &\n",
    "  NDIMS      = 2,         &\n",
    "  LTIMEDEP   = .TRUE.     )\n",
    "CALL IO_Field_write( TPOUTPUT%TFILE, TZFIELD, XUT(:,:,IKB) )\n",
    "!\n",
    "END SUBROUTINE IO_Field_user_write\n",
    "```"
   ]
  },
  {
   "cell_type": "markdown",
   "metadata": {
    "slideshow": {
     "slide_type": "slide"
    }
   },
   "source": [
    "<a id='src_fichiers_diachro'></a>\n",
    "### Fichiers diachroniques\n",
    "\n",
    "Les fichiers diachroniques sont structurés en utilisant les groupes HDF5 appelés dans Méso-NH niveaux (*levels*).\n",
    "\n",
    "La modification des sources par un utilisateur se fait généralement par l'ajout ou la modification de champs pour les sorties. Dans de rares cas, il faudra peut-être également faire évoluer le découpage en niveaux. Pour ces derniers, on ne montre ici que la structure de base.\n",
    "\n",
    "La structuration en niveaux (*levels*) se fait via l'utilisation de la structure de données *tbudiachrometadata* :\n",
    "\n",
    "```fortran\n",
    "type :: tbudiachrometadata\n",
    "  character(len=NBUNAMELGTMAX),  dimension(NMAXLEVELS) :: clevels  = '' !Name of the different groups/levels in the netCDF file\n",
    "  character(len=NCOMMENTLGTMAX), dimension(NMAXLEVELS) :: ccomments ='' !Comments for the different groups/levels in the netCDF file\n",
    "  character(len=1)              :: cdirection   = ''                    !Used for 2pt correlation and spectrum\n",
    "  logical :: lmobile    = .false.                                       !Is the domain moving? (ie for aircrafts and balloons)\n",
    "  logical :: licompress = .false.\n",
    "  logical :: ljcompress = .false.\n",
    "  logical :: lkcompress = .false.\n",
    "  logical :: ltcompress = .false. ! true if values are time averaged (can be on multiple time periods)\n",
    "  logical :: lnorm      = .false. ! true if values are normalized\n",
    "  logical, dimension(NMAXLEVELS) :: lleveluse = .false.\n",
    "  integer :: nil = -1 !Cartesian box boundaries in physical domain coordinates\n",
    "  integer :: nih = -1\n",
    "  integer :: njl = -1\n",
    "  integer :: njh = -1\n",
    "  integer :: nkl = -1\n",
    "  integer :: nkh = -1\n",
    "  integer :: nsv = -1 !Reference number of the corresponding scalar variable\n",
    "end type tbudiachrometadata\n",
    "```\n",
    "\n",
    "Les différents niveaux peuvent être référencés en passant par des *parameters* (voir dans *MNH/modd_budget.f90*) :\n",
    "\n",
    "```fortran\n",
    "integer, parameter :: NLVL_ROOT        = 0\n",
    "integer, parameter :: NLVL_CATEGORY    = 1\n",
    "integer, parameter :: NLVL_SUBCATEGORY = 2\n",
    "integer, parameter :: NLVL_GROUP       = 3\n",
    "integer, parameter :: NLVL_SHAPE       = 4\n",
    "integer, parameter :: NLVL_TIMEAVG     = 5\n",
    "integer, parameter :: NLVL_NORM        = 6\n",
    "integer, parameter :: NLVL_MASK        = 7\n",
    "```\n"
   ]
  },
  {
   "cell_type": "markdown",
   "metadata": {
    "slideshow": {
     "slide_type": "subslide"
    }
   },
   "source": [
    "#### Bilans (budgets)\n",
    "\n",
    "*  Le choix des paramètres, des variables et des termes sources se fait en utilisant la nameliste *NAM_BUDGET*.\n",
    "\n",
    "*  Ajout d'un terme source\n",
    "  *  Ajouter ses caractéristiques (nom et conditions pour sa disponibilité) dans *ini_budget.f90*\n",
    "  *  Ajouter les appels à *Budget_store_init* et à *Budget_store_end*\n",
    "  *  Alternative : *Budget_store_add*\n",
    "  \n",
    "Les bilans pour les différentes variables pronostiques peuvent être référencés à partir de *parameters* (voir fichier *MNH/modd_budget.f90*) :\n",
    "\n",
    "```fortran\n",
    "integer, parameter :: NBUDGET_RHO = 0  ! Reference number for budget of RhoJ\n",
    "integer, parameter :: NBUDGET_U   = 1  ! Reference number for budget of RhoJu  and/or LES budgets with u\n",
    "integer, parameter :: NBUDGET_V   = 2  ! Reference number for budget of RhoJv  and/or LES budgets with u\n",
    "integer, parameter :: NBUDGET_W   = 3  ! Reference number for budget of RhoJw  and/or LES budgets with u\n",
    "integer, parameter :: NBUDGET_TH  = 4  ! Reference number for budget of RhoJTh and/or LES budgets with th\n",
    "integer, parameter :: NBUDGET_TKE = 5  ! Reference number for budget of RhoJTke and/or LES budgets with Tke\n",
    "integer, parameter :: NBUDGET_RV  = 6  ! Reference number for budget of RhoJrv and/or LES budgets with rv\n",
    "integer, parameter :: NBUDGET_RC  = 7  ! Reference number for budget of RhoJrc and/or LES budgets with rc\n",
    "integer, parameter :: NBUDGET_RR  = 8  ! Reference number for budget of RhoJrr and/or LES budgets with rr\n",
    "integer, parameter :: NBUDGET_RI  = 9  ! Reference number for budget of RhoJri and/or LES budgets with ri\n",
    "integer, parameter :: NBUDGET_RS  = 10 ! Reference number for budget of RhoJrs and/or LES budgets with rs\n",
    "integer, parameter :: NBUDGET_RG  = 11 ! Reference number for budget of RhoJrg and/or LES budgets with rg\n",
    "integer, parameter :: NBUDGET_RH  = 12 ! Reference number for budget of RhoJrh and/or LES budgets with rh\n",
    "integer, parameter :: NBUDGET_SV1 = 13 ! Reference number for 1st budget of RhoJsv and/or LES budgets with sv\n",
    "```"
   ]
  },
  {
   "cell_type": "markdown",
   "metadata": {
    "slideshow": {
     "slide_type": "subslide"
    }
   },
   "source": [
    "##### Exemple : terme *VISC* pour la variable pronostique *UU*\n",
    "\n",
    "Dans *ini_budget.f90* :\n",
    "```fortran\n",
    "tzsource%cmnhname   = 'VISC'\n",
    "tzsource%clongname  = 'viscosity'\n",
    "tzsource%lavailable = lvisc .and. lvisc_uvw\n",
    "call Budget_source_add( tbudgets(NBUDGET_U), tzsource )\n",
    "```\n",
    "\n",
    "Dans *viscosity.f90* :\n",
    "```fortran\n",
    "if (lbudget_u .and. ovisc_uvw) &\n",
    "  call Budget_store_init( tbudgets(NBUDGET_U), 'VISC', prus )\n",
    "...\n",
    "if (lbudget_u .and. ovisc_uvw) &\n",
    "  call Budget_store_end( tbudgets(NBUDGET_U), 'VISC', prus )\n",
    "```"
   ]
  },
  {
   "cell_type": "markdown",
   "metadata": {
    "slideshow": {
     "slide_type": "subslide"
    }
   },
   "source": [
    "#### Bilans LES\n",
    "\n",
    "*  Le choix des paramètres, des variables et des termes sources se fait en utilisant la nameliste *NAM_LES*.\n",
    "\n",
    "Les différents budgets sont :\n",
    "\n",
    "*  déclarés dans les fichiers *modd_les.f90* et *modd_lesn.f90*,\n",
    "*  alloués et initialisés dans *ini_lesn.f90*,\n",
    "*  calculés dans *lesn.f90* (voir aussi *switch_sbg_lesn.f90*),\n",
    "*  écrits dans les fichiers *write_les.f90*, *write_les_budgetn.f90*, *write_les_rt_budgetn.f90* ou *write_les_sv_budgetn.f90* selon le type budget.\n"
   ]
  },
  {
   "cell_type": "markdown",
   "metadata": {
    "slideshow": {
     "slide_type": "subslide"
    }
   },
   "source": [
    "#### *Flyers* (avions et ballons)\n",
    "\n",
    "*  Les caractéristiques des avions et ballons doivent être fournies à l'aide des namelistes *NAM_FLYERS*, *NAM_AIRCRAFTS* et *NAM_BALLOON* (depuis Méso-NH 5.6.0, auparavant en modifiant les sources des fichiers *ini_aircraft.f90* et *ini_balloon.f90*).\n",
    "\n",
    "*  L'ajout d'un champ à écrire se fait dans *write_aircraft_balloon.f90*\n",
    "\n",
    "\n",
    "#### Profileurs\n",
    "\n",
    "*  Les caractéristiques des profileurs sont fournies par la nameliste *NAM_PROFILERn* (depuis Méso-NH 5.6.0, auparavant dans le fichier *ini_profilern.f90*).\n",
    "\n",
    "*  L'ajout d'un champ à écrire se fait dans *write_profilern.f90* avec\n",
    "  *  un appel à *Add_profile* pour les données sous forme de profil vertical,\n",
    "  *  un appel à *Add_point* pour les données ponctuelles au niveau du profileur."
   ]
  },
  {
   "cell_type": "markdown",
   "metadata": {
    "slideshow": {
     "slide_type": "subslide"
    }
   },
   "source": [
    "#### Stations\n",
    "\n",
    "*  Les caractéristiques des stations sont fournies à l'aide de la nameliste *NAM_STATIONn* (depuis Méso-NH 5.5.0, auparavant dans le fichier *ini_stationn.f90*).\n",
    "\n",
    "*  L'ajout d'un champ à écrire se fait dans *write_stationn.f90*.\n",
    "\n",
    "#### Séries temporelles\n",
    "\n",
    "*  Pour les séries temporelles (données moyennées dans des boîtes cartésiennes), il faut passer par les namelistes *NAM_SERIES* et *NAM_SERIESn*.\n",
    "\n",
    "*  L'ajout de nouvelles séries est décrit dans le guide de l'utilisateur de Méso-NH."
   ]
  },
  {
   "cell_type": "markdown",
   "metadata": {
    "slideshow": {
     "slide_type": "slide"
    }
   },
   "source": [
    "<a id='messages'></a>\n",
    "### Messages\n",
    "\n",
    "*  L'infrastructure de messages permet d'afficher des messages dans les fichiers de diagnostiques *OUTPUT_LISTINGn* ou sur la sortie standard.\n",
    "\n",
    "*  Le choix de ses paramètres est fait dans *NAM_CONFIO*.\n",
    "\n",
    "*  Cette infrastructure permet aussi de forcer la sortie de Méso_NH. C'est d'ailleurs l'approche à privilégier pour terminer l'exécution avant la fin car\n",
    "  *  il y a aussi affichage du message de diagnostique sur l'erreur standard (en plus d'*OUTPUT_LISTINGn* et/ou la sortie standard) et\n",
    "  *  la fin d'exécution est faite proprement (libération des ressources MPI entre autres).\n",
    "\n",
    "```fortran\n",
    "subroutine Print_msg_multi( KVERB, HDOMAIN, HSUBR, HMSG, OLOCAL )\n",
    "\n",
    "INTEGER,                        INTENT(IN) :: KVERB   !Verbosity level\n",
    "CHARACTER(LEN=*),               INTENT(IN) :: HDOMAIN !Domain/category of message\n",
    "CHARACTER(LEN=*),               INTENT(IN) :: HSUBR   !Subroutine/function name\n",
    "CHARACTER(LEN=*), dimension(:), INTENT(IN) :: HMSG    !Message\n",
    "LOGICAL, OPTIONAL,              INTENT(IN) :: OLOCAL  !true to force print on this process (if verbosity level is high enough)\n",
    "```"
   ]
  },
  {
   "cell_type": "markdown",
   "metadata": {
    "slideshow": {
     "slide_type": "slide"
    }
   },
   "source": [
    "Rappel des niveaux de verbosité :\n",
    "\n",
    "| # | Mot clé       | Description     |\n",
    "| :- | :-           | :-              |\n",
    "| 0 | NVERB_NO      | pas de messages |\n",
    "| 1 | NVERB_FATAL   | erreurs fatales |\n",
    "| 2 | NVERB_ERROR   | erreurs         |\n",
    "| 3 | NVERB_WARNING | avertissements  |\n",
    "| 4 | NVERB_INFO    | informations    |\n",
    "| 5 | NVERB_DEBUG   | débogage        |"
   ]
  },
  {
   "cell_type": "markdown",
   "metadata": {
    "slideshow": {
     "slide_type": "slide"
    }
   },
   "source": [
    "Actuellement, il y a 3 domaines (catégories) de messages possibles (argument muet *HDOMAIN*) :\n",
    "\n",
    "*  BUD pour les bilans (*budgets*),\n",
    "*  IO pour les entrées-sorties,\n",
    "*  GEN pour tous les autres.\n",
    "\n",
    "Exemple d'utilisation :\n",
    "```fortran\n",
    "use mode_msg\n",
    "\n",
    "call Print_msg( NVERB_ERROR, 'GEN', 'NOM_SUBROUTINE',  'message d''erreur sur une seule ligne' )\n",
    "\n",
    "cmnhmsg(1) = 'Message decoupe'\n",
    "cmnhmsg(2) = 'sur plusieurs lignes'\n",
    "cmnhmsg(3) = '(maximum 10 pour MesoNH 5.6.1)'\n",
    "call Print_msg( NVERB_INFO, 'GEN', 'NOM_SUBROUTINE' )\n",
    "```"
   ]
  },
  {
   "cell_type": "markdown",
   "metadata": {
    "slideshow": {
     "slide_type": "subslide"
    }
   },
   "source": [
    "Merci pour votre attention !\n",
    "\n",
    "Des questions ?"
   ]
  },
  {
   "cell_type": "markdown",
   "metadata": {
    "slideshow": {
     "slide_type": "skip"
    }
   },
   "source": [
    "## Evolutions / changelog (pour les I/O)\n",
    "\n",
    "### 5.2.0 (25/01/2016)\n",
    "\n",
    "* Entrées/sorties complètes en netCDF-4. Choix du format de fichier (LFI ou netCDF) dans la nameliste *NAM_CONFIO*\n",
    "\n",
    "### 5.2.1 (10/05/2016)\n",
    "\n",
    "* Pas de changements (pour les I/O)\n",
    "\n",
    "### 5.2.2 (09/12/2016)\n",
    "\n",
    "* Pas de changements (pour les I/O)\n",
    "\n",
    "### 5.3.0 (16/12/2016)\n",
    "\n",
    "* *LFI2CDF* : ajout de nouvelles options pour gérer les fichiers découpés par niveaux, compresser les données, réduire la précision pour les flottants, extraire des champs 3D dans des fichiers distincts\n",
    "* création d'une nouvelle commande : *cdf2cdf*\n",
    "\n",
    "\n",
    "### 5.3.1 (23/10/2017)\n",
    "\n",
    "* XTSTEP_OUTPUT = n dans NAM_FMOUT pour spécifier une écriture toutes les n secondes\n",
    "\n",
    "### 5.4.0 (02/07/2018)\n",
    "\n",
    "* Formats de fichiers : netCDF par défaut (au lieu de LFI)\n",
    "* Distinction entre *backups* (reprises) et *outputs* (sorties avec choix des champs)\n",
    "* Respect conventions CF (netCDF uniquement)\n",
    "* Ajout de métadonnées pour les différents champs (netCDF)\n",
    "* Namelist NAM_FMOUT remplacée par NAM_BACKUP\n",
    "* Namelist NAM_OUTPUT créée\n",
    "* En interne, utilisation interface Fortran 95 de netCDF\n",
    "* En interne, plus de vérifications et détection précoce de problèmes (incohérences, unités...)\n",
    "\n",
    "### 5.4.1 (24/07/2018)\n",
    "\n",
    "* Pas de changements (pour les I/O)\n",
    "\n",
    "### 5.4.2 (08/04/2019)\n",
    "\n",
    "* Nouveaux attributs dans les fichiers netCDF (history, MNH_cleanly_closed)\n",
    "* Fichiers découpés verticalement :\n",
    "    * Ajout d’un en-tête (similaire au fichier principal)\n",
    "    * Retiré le stockage des champs scalaires (toujours présents dans fichier principal)\n",
    "* Amélioration de la compatibilité avec les anciens fichiers (Méso-NH < 5.4)\n",
    "\n",
    "### 5.4.3 (02/04/2020)\n",
    "\n",
    "* Fichiers découpés verticalement : ajout d’informations sur le découpage des variables (dans fichier principal)\n",
    "* *cdf2cdf/lfi2cdf* : amélioration de la conversion de tous les fichiers et de la fusion des fichiers découpés\n",
    "\n",
    "### 5.4.4 (18/12/2020)\n",
    "\n",
    "* Correction de nombreux bugs dans les bilans (budgets)\n",
    "\n",
    "### 5.5.0 (21/07/2021)\n",
    "\n",
    "* Réorganisation fichiers diachroniques\n",
    "    * Fichiers diachroniques avec une structure hiérarchisée (niveaux) pour les fichiers netCDF (peu de changements pour le format LFI)\n",
    "    * Ajout de nouvelles dimensions dans les fichiers netCDF\n",
    "    * Namelistes simplifiées pour les bilans\n",
    "    * Réécriture complète des sources\n",
    "    \n",
    "### 5.5.1 (13/06/2022)\n",
    "\n",
    "* Pas de changements (pour les I/O)\n",
    "\n",
    "### 5.6.0 (08/03/2023)\n",
    "\n",
    "\n",
    "*  I/O management for scalar variables (users’, microphysics, electricity, chemistry, Lagrangian tracers, passive pollutants, salt, dust...)\n",
    "    * New implementation to simplify their management and improve consistency between reads and writes\n",
    "    * Correction of numerous bugs, inconsistencies and oversights (missing reads and/or writes)\n",
    "    * Change in the naming, more easily identifiable\n",
    "    * Physical units (mainly for chemistry) have been homogenized\n",
    "    * Metadata has changed for some variables (units corrections, more details...).\n",
    "    * When possible, backward compatibility with older Méso-NH files has been ensured.\n",
    "\n",
    "* Sensors (aircraft, balloons, profilers and stations)\n",
    "    * Use of namelists and CSV files (see user’s guide on how to use them) instead of modifying source code\n",
    "    * Complete internal recoding\n",
    "        * parallel performance optimisations (was very bad with large number of sensors)\n",
    "        * memory use reduction (sensors are now allocated only locally and only when needed)\n",
    "        * various improvements (field metadata, detection of abnormalities, bug corrections, more written fields...)\n",
    "\n",
    "* For developers: custom metadata field constructor\n",
    "    * Use of a custom constructor (Fortran 2003 functionality) for field metadata\n",
    "    * Default values automatically set (depending on the context), coherence checks done\n",
    "\n",
    "* Scalar logicals from SURFEX: names are suffixed with _SFX. Necessary change due to name collisions with Méso-NH variables (especially in chemistry simulations). Backward compatibility (in reading) with pre-5.6.0 Méso-NH files is ensured.\n",
    "* NetCDF Climate and Forecast (CF) Metadata Conventions: use version 1.10 (instead of 1.7). Hierarchical structure is now part of CF.\n",
    "* Others small changes\n",
    "\n",
    "### 5.6.1 (27/09/2023)\n",
    "\n",
    "* Sensors (aircrafts, balloons, stations and profilers)\n",
    "    * Finalization of internal developments (object oriented in Fortran 2008, deduplication of code, communication optimisations...)\n",
    "    * Added missing fields (ie dry density and plenty of others)\n",
    "    * Homogenization of the written fields between the different sensor types\n",
    "    \n",
    "* Bug correction in parallel I/O (Z-split files): memory leak removed (was crashing after some time because of use of all available memory, impacting Méso-NH version 5.5.x and 5.6.0)\n",
    "\n",
    "### 5.6.2 (28/11/2023)\n",
    "\n",
    "* Bug correction for cyclic domains: 1D horizontal coordinates were wrong at domain boundaries\n",
    "\n",
    "### 5.7.0 (xx/xx/202x)\n",
    "\n",
    "* Lossy compression for output files\n",
    "* Several fields have been added to the sensor outputs.\n",
    "    * For aircraft and balloons, vertical profiles of temperature, pressure and scalar variables are now available.\n",
    "    * Temperature at position of the flyer has also been added.\n",
    "    * For profilers, vertical profiles of temperature and, for stations, evolution of temperature at their position are also written.\n",
    "* The altitude profiles for profilers are no longer written with a time dimension as they do not change during simulations.\n",
    "\n"
   ]
  },
  {
   "cell_type": "markdown",
   "metadata": {
    "slideshow": {
     "slide_type": "skip"
    }
   },
   "source": [
    "---\n",
    "\n",
    "Notebook ayant servi de support pour une formation sur l'utilisation des entrées-sorties dans Méso-NH donnée le 17 mars 2022 en visioconférence.\n",
    "\n",
    "Le document actuel est une mise à jour de ce dernier afin d'y intégrer les évolutions ayant eu lieu depuis.\n",
    "\n",
    "Auteur : Philippe Wautelet, CNRS, Laboratoire d'aérologie, Toulouse\n",
    "\n",
    "Notebook distribué sous [Licence Creative Commons Attribution - Pas d’Utilisation Commerciale - Partage dans les Mêmes Conditions 4.0 International](http://creativecommons.org/licenses/by-nc-sa/4.0/deed.fr) ![Licence Creative Commons (CC BY-NC-SA 4.0)](https://i.creativecommons.org/l/by-nc-sa/4.0/88x31.png)\n"
   ]
  },
  {
   "cell_type": "code",
   "execution_count": null,
   "metadata": {
    "slideshow": {
     "slide_type": "skip"
    }
   },
   "outputs": [],
   "source": []
  }
 ],
 "metadata": {
  "celltoolbar": "Diaporama",
  "kernelspec": {
   "display_name": "Python 3 (ipykernel)",
   "language": "python",
   "name": "python3"
  },
  "language_info": {
   "codemirror_mode": {
    "name": "ipython",
    "version": 3
   },
   "file_extension": ".py",
   "mimetype": "text/x-python",
   "name": "python",
   "nbconvert_exporter": "python",
   "pygments_lexer": "ipython3",
   "version": "3.9.17"
  },
  "toc": {
   "base_numbering": 1,
   "nav_menu": {},
   "number_sections": true,
   "sideBar": false,
   "skip_h1_title": false,
   "title_cell": "Table of Contents",
   "title_sidebar": "Contents",
   "toc_cell": false,
   "toc_position": {
    "height": "100px",
    "left": "2292px",
    "top": "68px",
    "width": "165px"
   },
   "toc_section_display": true,
   "toc_window_display": true
  }
 },
 "nbformat": 4,
 "nbformat_minor": 4
}
